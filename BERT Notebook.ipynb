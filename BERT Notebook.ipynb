{
  "nbformat": 4,
  "nbformat_minor": 5,
  "metadata": {
    "kernelspec": {
      "display_name": "Python 3",
      "language": "python",
      "name": "python3"
    },
    "language_info": {
      "codemirror_mode": {
        "name": "ipython",
        "version": 3
      },
      "file_extension": ".py",
      "mimetype": "text/x-python",
      "name": "python",
      "nbconvert_exporter": "python",
      "pygments_lexer": "ipython3",
      "version": "3.7.10"
    },
    "papermill": {
      "default_parameters": {},
      "duration": 59.487778,
      "end_time": "2021-10-09T19:59:25.499931",
      "environment_variables": {},
      "exception": null,
      "input_path": "__notebook__.ipynb",
      "output_path": "__notebook__.ipynb",
      "parameters": {},
      "start_time": "2021-10-09T19:58:26.012153",
      "version": "2.3.3"
    },
    "colab": {
      "name": "Disaster-tweet-voting-ensemble - 5.ipynb",
      "provenance": [],
      "collapsed_sections": []
    },
    "accelerator": "GPU"
  },
  "cells": [
    {
      "cell_type": "code",
      "metadata": {
        "execution": {
          "iopub.execute_input": "2021-10-09T19:58:33.221617Z",
          "iopub.status.busy": "2021-10-09T19:58:33.220829Z",
          "iopub.status.idle": "2021-10-09T19:58:34.698437Z",
          "shell.execute_reply": "2021-10-09T19:58:34.699123Z",
          "shell.execute_reply.started": "2021-10-09T19:55:56.573628Z"
        },
        "papermill": {
          "duration": 1.506882,
          "end_time": "2021-10-09T19:58:34.699501",
          "exception": false,
          "start_time": "2021-10-09T19:58:33.192619",
          "status": "completed"
        },
        "tags": [],
        "id": "a56e05a7",
        "colab": {
          "base_uri": "https://localhost:8080/"
        },
        "outputId": "902fdf02-be9d-42aa-9a78-b9565e735b29"
      },
      "source": [
        "import numpy as np\n",
        "import pandas as pd\n",
        "import matplotlib.pyplot as plt\n",
        "import seaborn as sns\n",
        "\n",
        "import nltk \n",
        "nltk.download('stopwords')\n",
        "from nltk.corpus import stopwords\n",
        "from nltk.stem import PorterStemmer\n",
        "from nltk.stem.snowball import SnowballStemmer\n",
        "from nltk.stem import WordNetLemmatizer\n",
        "\n",
        "# from sklearn.model_selection import train_test_split\n",
        "# from sklearn.preprocessing import LabelEncoder\n",
        "\n",
        "\n",
        "import re"
      ],
      "id": "a56e05a7",
      "execution_count": null,
      "outputs": [
        {
          "output_type": "stream",
          "name": "stdout",
          "text": [
            "[nltk_data] Downloading package stopwords to /root/nltk_data...\n",
            "[nltk_data]   Unzipping corpora/stopwords.zip.\n"
          ]
        }
      ]
    },
    {
      "cell_type": "code",
      "metadata": {
        "id": "RkQEEuvMcgAb",
        "colab": {
          "base_uri": "https://localhost:8080/",
          "height": 206
        },
        "outputId": "7fb8dd52-7f4b-4778-de0c-ba9f7e6a1e49"
      },
      "source": [
        "train_df = pd.read_csv('https://raw.githubusercontent.com/pj423/Disaster-Tweets/main/train.csv')\n",
        "train_df.head()"
      ],
      "id": "RkQEEuvMcgAb",
      "execution_count": null,
      "outputs": [
        {
          "output_type": "execute_result",
          "data": {
            "text/html": [
              "<div>\n",
              "<style scoped>\n",
              "    .dataframe tbody tr th:only-of-type {\n",
              "        vertical-align: middle;\n",
              "    }\n",
              "\n",
              "    .dataframe tbody tr th {\n",
              "        vertical-align: top;\n",
              "    }\n",
              "\n",
              "    .dataframe thead th {\n",
              "        text-align: right;\n",
              "    }\n",
              "</style>\n",
              "<table border=\"1\" class=\"dataframe\">\n",
              "  <thead>\n",
              "    <tr style=\"text-align: right;\">\n",
              "      <th></th>\n",
              "      <th>id</th>\n",
              "      <th>keyword</th>\n",
              "      <th>location</th>\n",
              "      <th>text</th>\n",
              "      <th>target</th>\n",
              "    </tr>\n",
              "  </thead>\n",
              "  <tbody>\n",
              "    <tr>\n",
              "      <th>0</th>\n",
              "      <td>1</td>\n",
              "      <td>NaN</td>\n",
              "      <td>NaN</td>\n",
              "      <td>Our Deeds are the Reason of this #earthquake M...</td>\n",
              "      <td>1</td>\n",
              "    </tr>\n",
              "    <tr>\n",
              "      <th>1</th>\n",
              "      <td>4</td>\n",
              "      <td>NaN</td>\n",
              "      <td>NaN</td>\n",
              "      <td>Forest fire near La Ronge Sask. Canada</td>\n",
              "      <td>1</td>\n",
              "    </tr>\n",
              "    <tr>\n",
              "      <th>2</th>\n",
              "      <td>5</td>\n",
              "      <td>NaN</td>\n",
              "      <td>NaN</td>\n",
              "      <td>All residents asked to 'shelter in place' are ...</td>\n",
              "      <td>1</td>\n",
              "    </tr>\n",
              "    <tr>\n",
              "      <th>3</th>\n",
              "      <td>6</td>\n",
              "      <td>NaN</td>\n",
              "      <td>NaN</td>\n",
              "      <td>13,000 people receive #wildfires evacuation or...</td>\n",
              "      <td>1</td>\n",
              "    </tr>\n",
              "    <tr>\n",
              "      <th>4</th>\n",
              "      <td>7</td>\n",
              "      <td>NaN</td>\n",
              "      <td>NaN</td>\n",
              "      <td>Just got sent this photo from Ruby #Alaska as ...</td>\n",
              "      <td>1</td>\n",
              "    </tr>\n",
              "  </tbody>\n",
              "</table>\n",
              "</div>"
            ],
            "text/plain": [
              "   id keyword  ...                                               text target\n",
              "0   1     NaN  ...  Our Deeds are the Reason of this #earthquake M...      1\n",
              "1   4     NaN  ...             Forest fire near La Ronge Sask. Canada      1\n",
              "2   5     NaN  ...  All residents asked to 'shelter in place' are ...      1\n",
              "3   6     NaN  ...  13,000 people receive #wildfires evacuation or...      1\n",
              "4   7     NaN  ...  Just got sent this photo from Ruby #Alaska as ...      1\n",
              "\n",
              "[5 rows x 5 columns]"
            ]
          },
          "metadata": {},
          "execution_count": 2
        }
      ]
    },
    {
      "cell_type": "code",
      "metadata": {
        "id": "t7y7rJxJcveB",
        "colab": {
          "base_uri": "https://localhost:8080/",
          "height": 206
        },
        "outputId": "6e993d46-8cd4-4d85-e01b-3a45f2a3bb32"
      },
      "source": [
        "correct_predictions = pd.read_csv('https://raw.githubusercontent.com/pj423/Disaster-Tweets/main/Test%20Predictions.csv')\n",
        "correct_predictions.head()  "
      ],
      "id": "t7y7rJxJcveB",
      "execution_count": null,
      "outputs": [
        {
          "output_type": "execute_result",
          "data": {
            "text/html": [
              "<div>\n",
              "<style scoped>\n",
              "    .dataframe tbody tr th:only-of-type {\n",
              "        vertical-align: middle;\n",
              "    }\n",
              "\n",
              "    .dataframe tbody tr th {\n",
              "        vertical-align: top;\n",
              "    }\n",
              "\n",
              "    .dataframe thead th {\n",
              "        text-align: right;\n",
              "    }\n",
              "</style>\n",
              "<table border=\"1\" class=\"dataframe\">\n",
              "  <thead>\n",
              "    <tr style=\"text-align: right;\">\n",
              "      <th></th>\n",
              "      <th>id</th>\n",
              "      <th>target</th>\n",
              "    </tr>\n",
              "  </thead>\n",
              "  <tbody>\n",
              "    <tr>\n",
              "      <th>0</th>\n",
              "      <td>0</td>\n",
              "      <td>1</td>\n",
              "    </tr>\n",
              "    <tr>\n",
              "      <th>1</th>\n",
              "      <td>2</td>\n",
              "      <td>1</td>\n",
              "    </tr>\n",
              "    <tr>\n",
              "      <th>2</th>\n",
              "      <td>3</td>\n",
              "      <td>1</td>\n",
              "    </tr>\n",
              "    <tr>\n",
              "      <th>3</th>\n",
              "      <td>9</td>\n",
              "      <td>1</td>\n",
              "    </tr>\n",
              "    <tr>\n",
              "      <th>4</th>\n",
              "      <td>11</td>\n",
              "      <td>1</td>\n",
              "    </tr>\n",
              "  </tbody>\n",
              "</table>\n",
              "</div>"
            ],
            "text/plain": [
              "   id  target\n",
              "0   0       1\n",
              "1   2       1\n",
              "2   3       1\n",
              "3   9       1\n",
              "4  11       1"
            ]
          },
          "metadata": {},
          "execution_count": 3
        }
      ]
    },
    {
      "cell_type": "code",
      "metadata": {
        "colab": {
          "base_uri": "https://localhost:8080/",
          "height": 206
        },
        "id": "0_K9AyKVdn4l",
        "outputId": "cf9363f7-d14f-42dc-bd92-e3de139fb30f"
      },
      "source": [
        "test_df = pd.read_csv('https://raw.githubusercontent.com/pj423/Disaster-Tweets/main/test.csv')\n",
        "test_df.head()"
      ],
      "id": "0_K9AyKVdn4l",
      "execution_count": null,
      "outputs": [
        {
          "output_type": "execute_result",
          "data": {
            "text/html": [
              "<div>\n",
              "<style scoped>\n",
              "    .dataframe tbody tr th:only-of-type {\n",
              "        vertical-align: middle;\n",
              "    }\n",
              "\n",
              "    .dataframe tbody tr th {\n",
              "        vertical-align: top;\n",
              "    }\n",
              "\n",
              "    .dataframe thead th {\n",
              "        text-align: right;\n",
              "    }\n",
              "</style>\n",
              "<table border=\"1\" class=\"dataframe\">\n",
              "  <thead>\n",
              "    <tr style=\"text-align: right;\">\n",
              "      <th></th>\n",
              "      <th>id</th>\n",
              "      <th>keyword</th>\n",
              "      <th>location</th>\n",
              "      <th>text</th>\n",
              "    </tr>\n",
              "  </thead>\n",
              "  <tbody>\n",
              "    <tr>\n",
              "      <th>0</th>\n",
              "      <td>0</td>\n",
              "      <td>NaN</td>\n",
              "      <td>NaN</td>\n",
              "      <td>Just happened a terrible car crash</td>\n",
              "    </tr>\n",
              "    <tr>\n",
              "      <th>1</th>\n",
              "      <td>2</td>\n",
              "      <td>NaN</td>\n",
              "      <td>NaN</td>\n",
              "      <td>Heard about #earthquake is different cities, s...</td>\n",
              "    </tr>\n",
              "    <tr>\n",
              "      <th>2</th>\n",
              "      <td>3</td>\n",
              "      <td>NaN</td>\n",
              "      <td>NaN</td>\n",
              "      <td>there is a forest fire at spot pond, geese are...</td>\n",
              "    </tr>\n",
              "    <tr>\n",
              "      <th>3</th>\n",
              "      <td>9</td>\n",
              "      <td>NaN</td>\n",
              "      <td>NaN</td>\n",
              "      <td>Apocalypse lighting. #Spokane #wildfires</td>\n",
              "    </tr>\n",
              "    <tr>\n",
              "      <th>4</th>\n",
              "      <td>11</td>\n",
              "      <td>NaN</td>\n",
              "      <td>NaN</td>\n",
              "      <td>Typhoon Soudelor kills 28 in China and Taiwan</td>\n",
              "    </tr>\n",
              "  </tbody>\n",
              "</table>\n",
              "</div>"
            ],
            "text/plain": [
              "   id keyword location                                               text\n",
              "0   0     NaN      NaN                 Just happened a terrible car crash\n",
              "1   2     NaN      NaN  Heard about #earthquake is different cities, s...\n",
              "2   3     NaN      NaN  there is a forest fire at spot pond, geese are...\n",
              "3   9     NaN      NaN           Apocalypse lighting. #Spokane #wildfires\n",
              "4  11     NaN      NaN      Typhoon Soudelor kills 28 in China and Taiwan"
            ]
          },
          "metadata": {},
          "execution_count": 4
        }
      ]
    },
    {
      "cell_type": "code",
      "metadata": {
        "id": "u_OocdycoHVP"
      },
      "source": [
        "import numpy as np\n",
        "import pandas as pd\n",
        "import tensorflow as tf\n",
        "from tensorflow.keras.layers import Dense, Input\n",
        "from tensorflow.keras.optimizers import Adam\n",
        "from tensorflow.keras.models import Model\n",
        "from tensorflow.keras.callbacks import ModelCheckpoint\n",
        "import tensorflow_hub as hub"
      ],
      "id": "u_OocdycoHVP",
      "execution_count": null,
      "outputs": []
    },
    {
      "cell_type": "code",
      "metadata": {
        "id": "EQePzNghpptH"
      },
      "source": [
        "!wget --quiet https://raw.githubusercontent.com/tensorflow/models/master/official/nlp/bert/tokenization.py"
      ],
      "id": "EQePzNghpptH",
      "execution_count": null,
      "outputs": []
    },
    {
      "cell_type": "code",
      "metadata": {
        "colab": {
          "base_uri": "https://localhost:8080/"
        },
        "id": "3Tqyy5yfp4W3",
        "outputId": "fcde7d11-63ab-47dc-f2ba-8c359c3ed86b"
      },
      "source": [
        "!pip3 install sentencepiece\n",
        "\n",
        "import tokenization"
      ],
      "id": "3Tqyy5yfp4W3",
      "execution_count": null,
      "outputs": [
        {
          "output_type": "stream",
          "name": "stdout",
          "text": [
            "Collecting sentencepiece\n",
            "  Downloading sentencepiece-0.1.96-cp37-cp37m-manylinux_2_17_x86_64.manylinux2014_x86_64.whl (1.2 MB)\n",
            "\u001b[K     |████████████████████████████████| 1.2 MB 5.1 MB/s \n",
            "\u001b[?25hInstalling collected packages: sentencepiece\n",
            "Successfully installed sentencepiece-0.1.96\n"
          ]
        }
      ]
    },
    {
      "cell_type": "code",
      "metadata": {
        "id": "uUOnBjYFoRhh"
      },
      "source": [
        "def bert_encode(texts, tokenizer, max_len=512):\n",
        "    all_tokens = []\n",
        "    all_masks = []\n",
        "    all_segments = []\n",
        "    \n",
        "    for text in texts:\n",
        "        text = tokenizer.tokenize(text)\n",
        "            \n",
        "        text = text[:max_len-2]\n",
        "        input_sequence = [\"[CLS]\"] + text + [\"[SEP]\"]\n",
        "        pad_len = max_len - len(input_sequence)\n",
        "        \n",
        "        tokens = tokenizer.convert_tokens_to_ids(input_sequence)\n",
        "        tokens += [0] * pad_len\n",
        "        pad_masks = [1] * len(input_sequence) + [0] * pad_len\n",
        "        segment_ids = [0] * max_len\n",
        "        \n",
        "        all_tokens.append(tokens)\n",
        "        all_masks.append(pad_masks)\n",
        "        all_segments.append(segment_ids)\n",
        "    \n",
        "    return np.array(all_tokens), np.array(all_masks), np.array(all_segments)"
      ],
      "id": "uUOnBjYFoRhh",
      "execution_count": null,
      "outputs": []
    },
    {
      "cell_type": "code",
      "metadata": {
        "id": "r-yJSAfRqTjC"
      },
      "source": [
        "def build_model(bert_layer, max_len=512):\n",
        "    input_word_ids = Input(shape=(max_len,), dtype=tf.int32, name=\"input_word_ids\")\n",
        "    input_mask = Input(shape=(max_len,), dtype=tf.int32, name=\"input_mask\")\n",
        "    segment_ids = Input(shape=(max_len,), dtype=tf.int32, name=\"segment_ids\")\n",
        "\n",
        "    _, sequence_output = bert_layer([input_word_ids, input_mask, segment_ids])\n",
        "    clf_output = sequence_output[:, 0, :]\n",
        "    out = Dense(1, activation='sigmoid')(clf_output)\n",
        "    \n",
        "    model = Model(inputs=[input_word_ids, input_mask, segment_ids], outputs=out)\n",
        "    model.compile(Adam(lr=2e-6), loss='binary_crossentropy', metrics=['accuracy'])\n",
        "\n",
        "    return model"
      ],
      "id": "r-yJSAfRqTjC",
      "execution_count": null,
      "outputs": []
    },
    {
      "cell_type": "code",
      "metadata": {
        "colab": {
          "base_uri": "https://localhost:8080/"
        },
        "id": "6gP1wUQjqZry",
        "outputId": "e13120d2-ba10-416f-f68a-9a6c5905bb88"
      },
      "source": [
        "%%time\n",
        "module_url = \"https://tfhub.dev/tensorflow/bert_en_uncased_L-24_H-1024_A-16/1\"\n",
        "bert_layer = hub.KerasLayer(module_url, trainable=True)"
      ],
      "id": "6gP1wUQjqZry",
      "execution_count": null,
      "outputs": [
        {
          "output_type": "stream",
          "name": "stdout",
          "text": [
            "CPU times: user 40.5 s, sys: 8.95 s, total: 49.5 s\n",
            "Wall time: 52.4 s\n"
          ]
        }
      ]
    },
    {
      "cell_type": "code",
      "metadata": {
        "id": "OYpH5QBYqueZ"
      },
      "source": [
        "vocab_file = bert_layer.resolved_object.vocab_file.asset_path.numpy()\n",
        "do_lower_case = bert_layer.resolved_object.do_lower_case.numpy()\n",
        "tokenizer = tokenization.FullTokenizer(vocab_file, do_lower_case)"
      ],
      "id": "OYpH5QBYqueZ",
      "execution_count": null,
      "outputs": []
    },
    {
      "cell_type": "code",
      "metadata": {
        "id": "Syf8CENTqxgJ"
      },
      "source": [
        "train_input = bert_encode(train_df.text.values, tokenizer, max_len=160)\n",
        "test_input = bert_encode(test_df.text.values, tokenizer, max_len=160)\n",
        "train_labels = train_df.target.values"
      ],
      "id": "Syf8CENTqxgJ",
      "execution_count": null,
      "outputs": []
    },
    {
      "cell_type": "code",
      "metadata": {
        "colab": {
          "base_uri": "https://localhost:8080/"
        },
        "id": "1TzoD46HrBXc",
        "outputId": "21b5b27e-3cd4-4331-dd0b-c2709780a1c6"
      },
      "source": [
        "model = build_model(bert_layer, max_len=160)\n",
        "model.summary()"
      ],
      "id": "1TzoD46HrBXc",
      "execution_count": null,
      "outputs": [
        {
          "output_type": "stream",
          "name": "stdout",
          "text": [
            "Model: \"model\"\n",
            "__________________________________________________________________________________________________\n",
            " Layer (type)                   Output Shape         Param #     Connected to                     \n",
            "==================================================================================================\n",
            " input_word_ids (InputLayer)    [(None, 160)]        0           []                               \n",
            "                                                                                                  \n",
            " input_mask (InputLayer)        [(None, 160)]        0           []                               \n",
            "                                                                                                  \n",
            " segment_ids (InputLayer)       [(None, 160)]        0           []                               \n",
            "                                                                                                  \n",
            " keras_layer (KerasLayer)       [(None, 1024),       335141889   ['input_word_ids[0][0]',         \n",
            "                                 (None, 160, 1024)]               'input_mask[0][0]',             \n",
            "                                                                  'segment_ids[0][0]']            \n",
            "                                                                                                  \n",
            " tf.__operators__.getitem (Slic  (None, 1024)        0           ['keras_layer[0][1]']            \n",
            " ingOpLambda)                                                                                     \n",
            "                                                                                                  \n",
            " dense (Dense)                  (None, 1)            1025        ['tf.__operators__.getitem[0][0]'\n",
            "                                                                 ]                                \n",
            "                                                                                                  \n",
            "==================================================================================================\n",
            "Total params: 335,142,914\n",
            "Trainable params: 335,142,913\n",
            "Non-trainable params: 1\n",
            "__________________________________________________________________________________________________\n"
          ]
        },
        {
          "output_type": "stream",
          "name": "stderr",
          "text": [
            "/usr/local/lib/python3.7/dist-packages/keras/optimizer_v2/adam.py:105: UserWarning: The `lr` argument is deprecated, use `learning_rate` instead.\n",
            "  super(Adam, self).__init__(name, **kwargs)\n"
          ]
        }
      ]
    },
    {
      "cell_type": "code",
      "metadata": {
        "colab": {
          "base_uri": "https://localhost:8080/"
        },
        "id": "4T_qagv3q21Y",
        "outputId": "7bb00454-5d32-4290-fd09-9f97c5825c89"
      },
      "source": [
        "train_history = model.fit(\n",
        "    train_input, train_labels,\n",
        "    validation_split=0.2,\n",
        "    epochs=3,\n",
        "    batch_size=4\n",
        ")\n",
        "\n",
        "model.save('model.h5')"
      ],
      "id": "4T_qagv3q21Y",
      "execution_count": null,
      "outputs": [
        {
          "output_type": "stream",
          "name": "stdout",
          "text": [
            "Epoch 1/3\n",
            "1523/1523 [==============================] - 1499s 955ms/step - loss: 0.4492 - accuracy: 0.7987 - val_loss: 0.3801 - val_accuracy: 0.8391\n",
            "Epoch 2/3\n",
            "1523/1523 [==============================] - 1452s 953ms/step - loss: 0.3111 - accuracy: 0.8752 - val_loss: 0.3998 - val_accuracy: 0.8319\n",
            "Epoch 3/3\n",
            "1523/1523 [==============================] - 1452s 953ms/step - loss: 0.1860 - accuracy: 0.9314 - val_loss: 0.4736 - val_accuracy: 0.8280\n"
          ]
        }
      ]
    },
    {
      "cell_type": "code",
      "metadata": {
        "id": "Ng85t2K_rGJL"
      },
      "source": [
        "test_pred = model.predict(test_input)"
      ],
      "id": "Ng85t2K_rGJL",
      "execution_count": null,
      "outputs": []
    },
    {
      "cell_type": "code",
      "metadata": {
        "id": "VWDbv-z4r6qW"
      },
      "source": [
        "## filling submission.csv\n",
        "submission = pd.read_csv(\"https://raw.githubusercontent.com/pj423/Disaster-Tweets/main/sample_submission.csv\")\n",
        "\n",
        "submission['target'] = test_pred.round().astype(int)\n",
        "submission.to_csv('submission.csv', index=False)"
      ],
      "id": "VWDbv-z4r6qW",
      "execution_count": null,
      "outputs": []
    },
    {
      "cell_type": "code",
      "metadata": {
        "id": "V30F9MD8sFZc",
        "colab": {
          "base_uri": "https://localhost:8080/"
        },
        "outputId": "565a9ffb-e037-407a-8fa5-b41f12d73bc0"
      },
      "source": [
        "import sklearn.metrics\n",
        "\n",
        "sklearn.metrics.f1_score(correct_predictions[\"target\"], submission[\"target\"], average='macro')"
      ],
      "id": "V30F9MD8sFZc",
      "execution_count": null,
      "outputs": [
        {
          "output_type": "execute_result",
          "data": {
            "text/plain": [
              "0.8274263269609122"
            ]
          },
          "metadata": {},
          "execution_count": 17
        }
      ]
    },
    {
      "cell_type": "code",
      "metadata": {
        "execution": {
          "iopub.execute_input": "2021-10-09T19:59:11.318551Z",
          "iopub.status.busy": "2021-10-09T19:59:11.282753Z",
          "iopub.status.idle": "2021-10-09T19:59:11.722862Z",
          "shell.execute_reply": "2021-10-09T19:59:11.722348Z",
          "shell.execute_reply.started": "2021-10-09T19:57:29.257927Z"
        },
        "papermill": {
          "duration": 0.537273,
          "end_time": "2021-10-09T19:59:11.722997",
          "exception": false,
          "start_time": "2021-10-09T19:59:11.185724",
          "status": "completed"
        },
        "tags": [],
        "id": "37d70906",
        "colab": {
          "base_uri": "https://localhost:8080/"
        },
        "outputId": "fc6491fe-a7f3-4f16-cf89-e035b34d60bc"
      },
      "source": [
        "from sklearn.feature_extraction.text import CountVectorizer,  TfidfVectorizer, HashingVectorizer\n",
        "\n",
        "vectorizer = TfidfVectorizer()\n",
        "vectorizer.fit_transform(Xtrain)\n",
        "\n",
        "keyword = vectorizer.get_feature_names()\n",
        "x_train = vectorizer.transform(Xtrain)\n",
        "x_test = vectorizer.transform(Xtest)"
      ],
      "id": "37d70906",
      "execution_count": null,
      "outputs": [
        {
          "output_type": "stream",
          "name": "stderr",
          "text": [
            "/usr/local/lib/python3.7/dist-packages/sklearn/utils/deprecation.py:87: FutureWarning: Function get_feature_names is deprecated; get_feature_names is deprecated in 1.0 and will be removed in 1.2. Please use get_feature_names_out instead.\n",
            "  warnings.warn(msg, category=FutureWarning)\n"
          ]
        }
      ]
    },
    {
      "cell_type": "code",
      "metadata": {
        "colab": {
          "base_uri": "https://localhost:8080/"
        },
        "id": "HsrPj2leL91N",
        "outputId": "0f872966-aeb1-40a9-9ce0-233461298afd"
      },
      "source": [
        "from sklearn.naive_bayes import ComplementNB\n",
        "from sklearn.model_selection import GridSearchCV\n",
        "param_grid = {'alpha': [0.00001, 0.0001, 0.001, 0.01, 0.1, 1, 10, 100]}\n",
        "nb = ComplementNB()\n",
        "clf = GridSearchCV(nb, param_grid, verbose = 10)\n",
        "clf.fit(x_train, Y)"
      ],
      "id": "HsrPj2leL91N",
      "execution_count": null,
      "outputs": [
        {
          "output_type": "stream",
          "name": "stdout",
          "text": [
            "Fitting 5 folds for each of 8 candidates, totalling 40 fits\n",
            "[CV 1/5; 1/8] START alpha=1e-05.................................................\n",
            "[CV 1/5; 1/8] END ..................alpha=1e-05;, score=0.659 total time=   0.0s\n",
            "[CV 2/5; 1/8] START alpha=1e-05.................................................\n",
            "[CV 2/5; 1/8] END ..................alpha=1e-05;, score=0.558 total time=   0.0s\n",
            "[CV 3/5; 1/8] START alpha=1e-05.................................................\n",
            "[CV 3/5; 1/8] END ..................alpha=1e-05;, score=0.594 total time=   0.0s\n",
            "[CV 4/5; 1/8] START alpha=1e-05.................................................\n",
            "[CV 4/5; 1/8] END ..................alpha=1e-05;, score=0.642 total time=   0.0s\n",
            "[CV 5/5; 1/8] START alpha=1e-05.................................................\n",
            "[CV 5/5; 1/8] END ..................alpha=1e-05;, score=0.620 total time=   0.0s\n",
            "[CV 1/5; 2/8] START alpha=0.0001................................................\n",
            "[CV 1/5; 2/8] END .................alpha=0.0001;, score=0.661 total time=   0.0s\n",
            "[CV 2/5; 2/8] START alpha=0.0001................................................\n",
            "[CV 2/5; 2/8] END .................alpha=0.0001;, score=0.560 total time=   0.0s\n",
            "[CV 3/5; 2/8] START alpha=0.0001................................................\n",
            "[CV 3/5; 2/8] END .................alpha=0.0001;, score=0.598 total time=   0.0s\n",
            "[CV 4/5; 2/8] START alpha=0.0001................................................\n",
            "[CV 4/5; 2/8] END .................alpha=0.0001;, score=0.642 total time=   0.0s\n",
            "[CV 5/5; 2/8] START alpha=0.0001................................................\n",
            "[CV 5/5; 2/8] END .................alpha=0.0001;, score=0.625 total time=   0.0s\n",
            "[CV 1/5; 3/8] START alpha=0.001.................................................\n",
            "[CV 1/5; 3/8] END ..................alpha=0.001;, score=0.664 total time=   0.0s\n",
            "[CV 2/5; 3/8] START alpha=0.001.................................................\n",
            "[CV 2/5; 3/8] END ..................alpha=0.001;, score=0.558 total time=   0.0s\n",
            "[CV 3/5; 3/8] START alpha=0.001.................................................\n",
            "[CV 3/5; 3/8] END ..................alpha=0.001;, score=0.603 total time=   0.0s\n",
            "[CV 4/5; 3/8] START alpha=0.001.................................................\n",
            "[CV 4/5; 3/8] END ..................alpha=0.001;, score=0.645 total time=   0.0s\n",
            "[CV 5/5; 3/8] START alpha=0.001.................................................\n",
            "[CV 5/5; 3/8] END ..................alpha=0.001;, score=0.630 total time=   0.0s\n",
            "[CV 1/5; 4/8] START alpha=0.01..................................................\n",
            "[CV 1/5; 4/8] END ...................alpha=0.01;, score=0.670 total time=   0.0s\n",
            "[CV 2/5; 4/8] START alpha=0.01..................................................\n",
            "[CV 2/5; 4/8] END ...................alpha=0.01;, score=0.555 total time=   0.0s\n",
            "[CV 3/5; 4/8] START alpha=0.01..................................................\n",
            "[CV 3/5; 4/8] END ...................alpha=0.01;, score=0.615 total time=   0.0s\n",
            "[CV 4/5; 4/8] START alpha=0.01..................................................\n",
            "[CV 4/5; 4/8] END ...................alpha=0.01;, score=0.646 total time=   0.0s\n",
            "[CV 5/5; 4/8] START alpha=0.01..................................................\n",
            "[CV 5/5; 4/8] END ...................alpha=0.01;, score=0.639 total time=   0.0s\n",
            "[CV 1/5; 5/8] START alpha=0.1...................................................\n",
            "[CV 1/5; 5/8] END ....................alpha=0.1;, score=0.664 total time=   0.0s\n",
            "[CV 2/5; 5/8] START alpha=0.1...................................................\n",
            "[CV 2/5; 5/8] END ....................alpha=0.1;, score=0.565 total time=   0.0s\n",
            "[CV 3/5; 5/8] START alpha=0.1...................................................\n",
            "[CV 3/5; 5/8] END ....................alpha=0.1;, score=0.628 total time=   0.0s\n",
            "[CV 4/5; 5/8] START alpha=0.1...................................................\n",
            "[CV 4/5; 5/8] END ....................alpha=0.1;, score=0.650 total time=   0.0s\n",
            "[CV 5/5; 5/8] START alpha=0.1...................................................\n",
            "[CV 5/5; 5/8] END ....................alpha=0.1;, score=0.653 total time=   0.0s\n",
            "[CV 1/5; 6/8] START alpha=1.....................................................\n",
            "[CV 1/5; 6/8] END ......................alpha=1;, score=0.674 total time=   0.0s\n",
            "[CV 2/5; 6/8] START alpha=1.....................................................\n",
            "[CV 2/5; 6/8] END ......................alpha=1;, score=0.605 total time=   0.0s\n",
            "[CV 3/5; 6/8] START alpha=1.....................................................\n",
            "[CV 3/5; 6/8] END ......................alpha=1;, score=0.674 total time=   0.0s\n",
            "[CV 4/5; 6/8] START alpha=1.....................................................\n",
            "[CV 4/5; 6/8] END ......................alpha=1;, score=0.665 total time=   0.0s\n",
            "[CV 5/5; 6/8] START alpha=1.....................................................\n",
            "[CV 5/5; 6/8] END ......................alpha=1;, score=0.727 total time=   0.0s\n",
            "[CV 1/5; 7/8] START alpha=10....................................................\n",
            "[CV 1/5; 7/8] END .....................alpha=10;, score=0.670 total time=   0.0s\n",
            "[CV 2/5; 7/8] START alpha=10....................................................\n",
            "[CV 2/5; 7/8] END .....................alpha=10;, score=0.644 total time=   0.0s\n",
            "[CV 3/5; 7/8] START alpha=10....................................................\n",
            "[CV 3/5; 7/8] END .....................alpha=10;, score=0.675 total time=   0.0s\n",
            "[CV 4/5; 7/8] START alpha=10....................................................\n",
            "[CV 4/5; 7/8] END .....................alpha=10;, score=0.677 total time=   0.0s\n",
            "[CV 5/5; 7/8] START alpha=10....................................................\n",
            "[CV 5/5; 7/8] END .....................alpha=10;, score=0.765 total time=   0.0s\n",
            "[CV 1/5; 8/8] START alpha=100...................................................\n",
            "[CV 1/5; 8/8] END ....................alpha=100;, score=0.653 total time=   0.0s\n",
            "[CV 2/5; 8/8] START alpha=100...................................................\n",
            "[CV 2/5; 8/8] END ....................alpha=100;, score=0.659 total time=   0.0s\n",
            "[CV 3/5; 8/8] START alpha=100...................................................\n",
            "[CV 3/5; 8/8] END ....................alpha=100;, score=0.661 total time=   0.0s\n",
            "[CV 4/5; 8/8] START alpha=100...................................................\n",
            "[CV 4/5; 8/8] END ....................alpha=100;, score=0.682 total time=   0.0s\n",
            "[CV 5/5; 8/8] START alpha=100...................................................\n",
            "[CV 5/5; 8/8] END ....................alpha=100;, score=0.744 total time=   0.0s\n"
          ]
        },
        {
          "output_type": "execute_result",
          "data": {
            "text/plain": [
              "GridSearchCV(estimator=ComplementNB(),\n",
              "             param_grid={'alpha': [1e-05, 0.0001, 0.001, 0.01, 0.1, 1, 10,\n",
              "                                   100]},\n",
              "             verbose=10)"
            ]
          },
          "metadata": {},
          "execution_count": 15
        }
      ]
    },
    {
      "cell_type": "code",
      "metadata": {
        "colab": {
          "base_uri": "https://localhost:8080/"
        },
        "id": "jU62IO4QMDZR",
        "outputId": "d337791b-3440-4970-950f-1adc590ecac8"
      },
      "source": [
        "clf.cv_results_ "
      ],
      "id": "jU62IO4QMDZR",
      "execution_count": null,
      "outputs": [
        {
          "output_type": "execute_result",
          "data": {
            "text/plain": [
              "{'mean_fit_time': array([0.00517864, 0.00490866, 0.00607986, 0.0062387 , 0.00624065,\n",
              "        0.00655684, 0.00618439, 0.00627298]),\n",
              " 'mean_score_time': array([0.00096292, 0.00092211, 0.00116239, 0.00092988, 0.00093679,\n",
              "        0.00095096, 0.00093193, 0.00090752]),\n",
              " 'mean_test_score': array([0.61434819, 0.61723792, 0.61986535, 0.62498811, 0.63208188,\n",
              "        0.66899439, 0.68646656, 0.67976709]),\n",
              " 'param_alpha': masked_array(data=[1e-05, 0.0001, 0.001, 0.01, 0.1, 1, 10, 100],\n",
              "              mask=[False, False, False, False, False, False, False, False],\n",
              "        fill_value='?',\n",
              "             dtype=object),\n",
              " 'params': [{'alpha': 1e-05},\n",
              "  {'alpha': 0.0001},\n",
              "  {'alpha': 0.001},\n",
              "  {'alpha': 0.01},\n",
              "  {'alpha': 0.1},\n",
              "  {'alpha': 1},\n",
              "  {'alpha': 10},\n",
              "  {'alpha': 100}],\n",
              " 'rank_test_score': array([8, 7, 6, 5, 4, 3, 1, 2], dtype=int32),\n",
              " 'split0_test_score': array([0.65856861, 0.66119501, 0.66382141, 0.67038739, 0.66382141,\n",
              "        0.67367039, 0.67038739, 0.65331582]),\n",
              " 'split1_test_score': array([0.558109  , 0.56007879, 0.558109  , 0.554826  , 0.56533158,\n",
              "        0.60472751, 0.64412344, 0.65856861]),\n",
              " 'split2_test_score': array([0.59356533, 0.59816152, 0.60275772, 0.61523309, 0.62770847,\n",
              "        0.67432699, 0.67498359, 0.66053841]),\n",
              " 'split3_test_score': array([0.64191853, 0.64191853, 0.64454665, 0.64586071, 0.65045992,\n",
              "        0.66491459, 0.67739816, 0.68199737]),\n",
              " 'split4_test_score': array([0.6195795 , 0.62483574, 0.63009198, 0.63863338, 0.65308804,\n",
              "        0.72733246, 0.76544021, 0.74441524]),\n",
              " 'std_fit_time': array([3.78359976e-04, 5.58906445e-05, 2.44342581e-03, 1.95893155e-04,\n",
              "        1.94363844e-04, 1.79386013e-03, 2.64081157e-04, 7.65563363e-04]),\n",
              " 'std_score_time': array([4.27591342e-05, 2.57750664e-05, 4.11609321e-04, 1.19717468e-05,\n",
              "        1.16931128e-05, 2.29564285e-05, 5.33234012e-05, 6.77645833e-06]),\n",
              " 'std_test_score': array([0.03560256, 0.03529918, 0.03674889, 0.03924496, 0.03538683,\n",
              "        0.03898848, 0.0412369 , 0.0337732 ])}"
            ]
          },
          "metadata": {},
          "execution_count": 16
        }
      ]
    },
    {
      "cell_type": "code",
      "metadata": {
        "colab": {
          "base_uri": "https://localhost:8080/"
        },
        "id": "EX1762LrMFzW",
        "outputId": "ca97ba81-4650-4bad-e008-f3b38ca9185f"
      },
      "source": [
        "clf.best_score_"
      ],
      "id": "EX1762LrMFzW",
      "execution_count": null,
      "outputs": [
        {
          "output_type": "execute_result",
          "data": {
            "text/plain": [
              "0.6864665578950183"
            ]
          },
          "metadata": {},
          "execution_count": 17
        }
      ]
    },
    {
      "cell_type": "code",
      "metadata": {
        "colab": {
          "base_uri": "https://localhost:8080/"
        },
        "id": "JABxtK0SMGWl",
        "outputId": "b9f8b441-bddc-47f7-bacd-e093eb0a32a8"
      },
      "source": [
        "clf.best_params_"
      ],
      "id": "JABxtK0SMGWl",
      "execution_count": null,
      "outputs": [
        {
          "output_type": "execute_result",
          "data": {
            "text/plain": [
              "{'alpha': 10}"
            ]
          },
          "metadata": {},
          "execution_count": 18
        }
      ]
    },
    {
      "cell_type": "code",
      "metadata": {
        "colab": {
          "base_uri": "https://localhost:8080/"
        },
        "id": "YxY8I6JQKjgU",
        "outputId": "4d8b4eff-5538-43b0-cc9c-92c7bdaa41d1"
      },
      "source": [
        "from sklearn.naive_bayes import BernoulliNB\n",
        "from sklearn.model_selection import GridSearchCV\n",
        "param_grid = {'alpha': [0.00001, 0.0001, 0.001, 0.01, 0.1, 1, 10, 100]}\n",
        "nb = BernoulliNB()\n",
        "clf = GridSearchCV(nb, param_grid, verbose = 10)\n",
        "clf.fit(x_train, Y)"
      ],
      "id": "YxY8I6JQKjgU",
      "execution_count": null,
      "outputs": [
        {
          "output_type": "stream",
          "name": "stdout",
          "text": [
            "Fitting 5 folds for each of 8 candidates, totalling 40 fits\n",
            "[CV 1/5; 1/8] START alpha=1e-05.................................................\n",
            "[CV 1/5; 1/8] END ..................alpha=1e-05;, score=0.700 total time=   0.0s\n",
            "[CV 2/5; 1/8] START alpha=1e-05.................................................\n",
            "[CV 2/5; 1/8] END ..................alpha=1e-05;, score=0.613 total time=   0.0s\n",
            "[CV 3/5; 1/8] START alpha=1e-05.................................................\n",
            "[CV 3/5; 1/8] END ..................alpha=1e-05;, score=0.640 total time=   0.0s\n",
            "[CV 4/5; 1/8] START alpha=1e-05.................................................\n",
            "[CV 4/5; 1/8] END ..................alpha=1e-05;, score=0.679 total time=   0.0s\n",
            "[CV 5/5; 1/8] START alpha=1e-05.................................................\n",
            "[CV 5/5; 1/8] END ..................alpha=1e-05;, score=0.675 total time=   0.0s\n",
            "[CV 1/5; 2/8] START alpha=0.0001................................................\n",
            "[CV 1/5; 2/8] END .................alpha=0.0001;, score=0.699 total time=   0.0s\n",
            "[CV 2/5; 2/8] START alpha=0.0001................................................\n",
            "[CV 2/5; 2/8] END .................alpha=0.0001;, score=0.615 total time=   0.0s\n",
            "[CV 3/5; 2/8] START alpha=0.0001................................................\n",
            "[CV 3/5; 2/8] END .................alpha=0.0001;, score=0.643 total time=   0.0s\n",
            "[CV 4/5; 2/8] START alpha=0.0001................................................\n",
            "[CV 4/5; 2/8] END .................alpha=0.0001;, score=0.683 total time=   0.0s\n",
            "[CV 5/5; 2/8] START alpha=0.0001................................................\n",
            "[CV 5/5; 2/8] END .................alpha=0.0001;, score=0.677 total time=   0.0s\n",
            "[CV 1/5; 3/8] START alpha=0.001.................................................\n",
            "[CV 1/5; 3/8] END ..................alpha=0.001;, score=0.705 total time=   0.0s\n",
            "[CV 2/5; 3/8] START alpha=0.001.................................................\n",
            "[CV 2/5; 3/8] END ..................alpha=0.001;, score=0.617 total time=   0.0s\n",
            "[CV 3/5; 3/8] START alpha=0.001.................................................\n",
            "[CV 3/5; 3/8] END ..................alpha=0.001;, score=0.655 total time=   0.0s\n",
            "[CV 4/5; 3/8] START alpha=0.001.................................................\n",
            "[CV 4/5; 3/8] END ..................alpha=0.001;, score=0.684 total time=   0.0s\n",
            "[CV 5/5; 3/8] START alpha=0.001.................................................\n",
            "[CV 5/5; 3/8] END ..................alpha=0.001;, score=0.683 total time=   0.0s\n",
            "[CV 1/5; 4/8] START alpha=0.01..................................................\n",
            "[CV 1/5; 4/8] END ...................alpha=0.01;, score=0.716 total time=   0.0s\n",
            "[CV 2/5; 4/8] START alpha=0.01..................................................\n",
            "[CV 2/5; 4/8] END ...................alpha=0.01;, score=0.625 total time=   0.0s\n",
            "[CV 3/5; 4/8] START alpha=0.01..................................................\n",
            "[CV 3/5; 4/8] END ...................alpha=0.01;, score=0.671 total time=   0.0s\n",
            "[CV 4/5; 4/8] START alpha=0.01..................................................\n",
            "[CV 4/5; 4/8] END ...................alpha=0.01;, score=0.683 total time=   0.0s\n",
            "[CV 5/5; 4/8] START alpha=0.01..................................................\n",
            "[CV 5/5; 4/8] END ...................alpha=0.01;, score=0.694 total time=   0.0s\n",
            "[CV 1/5; 5/8] START alpha=0.1...................................................\n",
            "[CV 1/5; 5/8] END ....................alpha=0.1;, score=0.729 total time=   0.0s\n",
            "[CV 2/5; 5/8] START alpha=0.1...................................................\n",
            "[CV 2/5; 5/8] END ....................alpha=0.1;, score=0.638 total time=   0.0s\n",
            "[CV 3/5; 5/8] START alpha=0.1...................................................\n",
            "[CV 3/5; 5/8] END ....................alpha=0.1;, score=0.693 total time=   0.0s\n",
            "[CV 4/5; 5/8] START alpha=0.1...................................................\n",
            "[CV 4/5; 5/8] END ....................alpha=0.1;, score=0.693 total time=   0.0s\n",
            "[CV 5/5; 5/8] START alpha=0.1...................................................\n",
            "[CV 5/5; 5/8] END ....................alpha=0.1;, score=0.718 total time=   0.0s\n",
            "[CV 1/5; 6/8] START alpha=1.....................................................\n",
            "[CV 1/5; 6/8] END ......................alpha=1;, score=0.728 total time=   0.0s\n",
            "[CV 2/5; 6/8] START alpha=1.....................................................\n",
            "[CV 2/5; 6/8] END ......................alpha=1;, score=0.693 total time=   0.0s\n",
            "[CV 3/5; 6/8] START alpha=1.....................................................\n",
            "[CV 3/5; 6/8] END ......................alpha=1;, score=0.736 total time=   0.0s\n",
            "[CV 4/5; 6/8] START alpha=1.....................................................\n",
            "[CV 4/5; 6/8] END ......................alpha=1;, score=0.723 total time=   0.0s\n",
            "[CV 5/5; 6/8] START alpha=1.....................................................\n",
            "[CV 5/5; 6/8] END ......................alpha=1;, score=0.792 total time=   0.0s\n",
            "[CV 1/5; 7/8] START alpha=10....................................................\n",
            "[CV 1/5; 7/8] END .....................alpha=10;, score=0.570 total time=   0.0s\n",
            "[CV 2/5; 7/8] START alpha=10....................................................\n",
            "[CV 2/5; 7/8] END .....................alpha=10;, score=0.571 total time=   0.0s\n",
            "[CV 3/5; 7/8] START alpha=10....................................................\n",
            "[CV 3/5; 7/8] END .....................alpha=10;, score=0.571 total time=   0.0s\n",
            "[CV 4/5; 7/8] START alpha=10....................................................\n",
            "[CV 4/5; 7/8] END .....................alpha=10;, score=0.570 total time=   0.0s\n",
            "[CV 5/5; 7/8] START alpha=10....................................................\n",
            "[CV 5/5; 7/8] END .....................alpha=10;, score=0.570 total time=   0.0s\n",
            "[CV 1/5; 8/8] START alpha=100...................................................\n",
            "[CV 1/5; 8/8] END ....................alpha=100;, score=0.570 total time=   0.0s\n",
            "[CV 2/5; 8/8] START alpha=100...................................................\n",
            "[CV 2/5; 8/8] END ....................alpha=100;, score=0.571 total time=   0.0s\n",
            "[CV 3/5; 8/8] START alpha=100...................................................\n",
            "[CV 3/5; 8/8] END ....................alpha=100;, score=0.571 total time=   0.0s\n",
            "[CV 4/5; 8/8] START alpha=100...................................................\n",
            "[CV 4/5; 8/8] END ....................alpha=100;, score=0.570 total time=   0.0s\n",
            "[CV 5/5; 8/8] START alpha=100...................................................\n",
            "[CV 5/5; 8/8] END ....................alpha=100;, score=0.570 total time=   0.0s\n"
          ]
        },
        {
          "output_type": "execute_result",
          "data": {
            "text/plain": [
              "GridSearchCV(estimator=BernoulliNB(),\n",
              "             param_grid={'alpha': [1e-05, 0.0001, 0.001, 0.01, 0.1, 1, 10,\n",
              "                                   100]},\n",
              "             verbose=10)"
            ]
          },
          "metadata": {},
          "execution_count": 11
        }
      ]
    },
    {
      "cell_type": "code",
      "metadata": {
        "colab": {
          "base_uri": "https://localhost:8080/"
        },
        "id": "CqIDXWrWKmMx",
        "outputId": "2140740c-8100-4c50-b3b3-9a3982e60adb"
      },
      "source": [
        "clf.cv_results_ "
      ],
      "id": "CqIDXWrWKmMx",
      "execution_count": null,
      "outputs": [
        {
          "output_type": "execute_result",
          "data": {
            "text/plain": [
              "{'mean_fit_time': array([0.0072144 , 0.0070652 , 0.00836539, 0.00714288, 0.00765791,\n",
              "        0.00683041, 0.00677466, 0.00750136]),\n",
              " 'mean_score_time': array([0.00308619, 0.0030014 , 0.0038712 , 0.00287156, 0.0028707 ,\n",
              "        0.00297899, 0.00283594, 0.00353665]),\n",
              " 'mean_test_score': array([0.66124152, 0.66334332, 0.66872847, 0.67779083, 0.69434152,\n",
              "        0.73467049, 0.5703402 , 0.5703402 ]),\n",
              " 'param_alpha': masked_array(data=[1e-05, 0.0001, 0.001, 0.01, 0.1, 1, 10, 100],\n",
              "              mask=[False, False, False, False, False, False, False, False],\n",
              "        fill_value='?',\n",
              "             dtype=object),\n",
              " 'params': [{'alpha': 1e-05},\n",
              "  {'alpha': 0.0001},\n",
              "  {'alpha': 0.001},\n",
              "  {'alpha': 0.01},\n",
              "  {'alpha': 0.1},\n",
              "  {'alpha': 1},\n",
              "  {'alpha': 10},\n",
              "  {'alpha': 100}],\n",
              " 'rank_test_score': array([6, 5, 4, 3, 2, 1, 7, 7], dtype=int32),\n",
              " 'split0_test_score': array([0.69993434, 0.69862114, 0.70453053, 0.71569271, 0.72948129,\n",
              "        0.72816809, 0.56992777, 0.56992777]),\n",
              " 'split1_test_score': array([0.6126067 , 0.61523309, 0.61654629, 0.62508207, 0.63821405,\n",
              "        0.69336835, 0.57058437, 0.57058437]),\n",
              " 'split2_test_score': array([0.63952725, 0.64346684, 0.65528562, 0.67104399, 0.69336835,\n",
              "        0.73604728, 0.57058437, 0.57058437]),\n",
              " 'split3_test_score': array([0.67871222, 0.6826544 , 0.68396846, 0.68331143, 0.69250986,\n",
              "        0.72339028, 0.57030223, 0.57030223]),\n",
              " 'split4_test_score': array([0.67542707, 0.67674113, 0.68331143, 0.69382392, 0.71813403,\n",
              "        0.79237845, 0.57030223, 0.57030223]),\n",
              " 'std_fit_time': array([0.00058937, 0.00017856, 0.00360488, 0.0010787 , 0.001044  ,\n",
              "        0.00016336, 0.00025979, 0.00145152]),\n",
              " 'std_score_time': array([3.18244442e-04, 2.82802627e-05, 1.25471638e-03, 7.38099255e-05,\n",
              "        3.29775559e-05, 1.47547811e-04, 5.00931903e-05, 8.51264212e-04]),\n",
              " 'std_test_score': array([0.03111413, 0.03002203, 0.03043156, 0.03015899, 0.03148168,\n",
              "        0.03227226, 0.00024175, 0.00024175])}"
            ]
          },
          "metadata": {},
          "execution_count": 12
        }
      ]
    },
    {
      "cell_type": "code",
      "metadata": {
        "colab": {
          "base_uri": "https://localhost:8080/"
        },
        "id": "j3E-vOm6Kpen",
        "outputId": "693293c4-72e0-4cf0-f043-3eedefbd59a0"
      },
      "source": [
        "clf.best_score_"
      ],
      "id": "j3E-vOm6Kpen",
      "execution_count": null,
      "outputs": [
        {
          "output_type": "execute_result",
          "data": {
            "text/plain": [
              "0.7346704883421353"
            ]
          },
          "metadata": {},
          "execution_count": 13
        }
      ]
    },
    {
      "cell_type": "code",
      "metadata": {
        "colab": {
          "base_uri": "https://localhost:8080/"
        },
        "id": "1NWJ_1i5Krtj",
        "outputId": "76690c39-735f-4df4-9222-15ac09c24807"
      },
      "source": [
        "clf.best_params_"
      ],
      "id": "1NWJ_1i5Krtj",
      "execution_count": null,
      "outputs": [
        {
          "output_type": "execute_result",
          "data": {
            "text/plain": [
              "{'alpha': 1}"
            ]
          },
          "metadata": {},
          "execution_count": 14
        }
      ]
    },
    {
      "cell_type": "code",
      "metadata": {
        "colab": {
          "base_uri": "https://localhost:8080/"
        },
        "id": "4xAPBklz-CoJ",
        "outputId": "3e08d264-53f7-4d48-e219-c7eb54f404da"
      },
      "source": [
        "from sklearn.linear_model import LogisticRegression\n",
        "from sklearn.model_selection import GridSearchCV\n",
        "param_grid = {'C': [0.00001, 0.0001, 0.001, 0.01, 0.1, 1],\n",
        "              'l1_ratio': [0, 0.2, 0.4, 0.6, 0.8, 1]}\n",
        "lr = LogisticRegression(max_iter = 10000, penalty = 'elasticnet', solver = 'saga')\n",
        "clf = GridSearchCV(lr, param_grid, verbose = 8)\n",
        "clf.fit(x_train, Y)"
      ],
      "id": "4xAPBklz-CoJ",
      "execution_count": null,
      "outputs": [
        {
          "output_type": "stream",
          "name": "stdout",
          "text": [
            "Fitting 5 folds for each of 36 candidates, totalling 180 fits\n",
            "[CV 1/5] END ...............C=1e-05, l1_ratio=0;, score=0.570 total time=   4.2s\n",
            "[CV 2/5] END ...............C=1e-05, l1_ratio=0;, score=0.571 total time=   4.2s\n",
            "[CV 3/5] END ...............C=1e-05, l1_ratio=0;, score=0.571 total time=   4.9s\n",
            "[CV 4/5] END ...............C=1e-05, l1_ratio=0;, score=0.570 total time=   4.6s\n",
            "[CV 5/5] END ...............C=1e-05, l1_ratio=0;, score=0.570 total time=   3.8s\n",
            "[CV 1/5] END .............C=1e-05, l1_ratio=0.2;, score=0.570 total time=   0.0s\n",
            "[CV 2/5] END .............C=1e-05, l1_ratio=0.2;, score=0.571 total time=   0.0s\n",
            "[CV 3/5] END .............C=1e-05, l1_ratio=0.2;, score=0.571 total time=   0.0s\n",
            "[CV 4/5] END .............C=1e-05, l1_ratio=0.2;, score=0.570 total time=   0.0s\n",
            "[CV 5/5] END .............C=1e-05, l1_ratio=0.2;, score=0.570 total time=   0.0s\n",
            "[CV 1/5] END .............C=1e-05, l1_ratio=0.4;, score=0.570 total time=   0.0s\n",
            "[CV 2/5] END .............C=1e-05, l1_ratio=0.4;, score=0.571 total time=   0.0s\n",
            "[CV 3/5] END .............C=1e-05, l1_ratio=0.4;, score=0.571 total time=   0.0s\n",
            "[CV 4/5] END .............C=1e-05, l1_ratio=0.4;, score=0.570 total time=   0.0s\n",
            "[CV 5/5] END .............C=1e-05, l1_ratio=0.4;, score=0.570 total time=   0.0s\n",
            "[CV 1/5] END .............C=1e-05, l1_ratio=0.6;, score=0.570 total time=   0.0s\n",
            "[CV 2/5] END .............C=1e-05, l1_ratio=0.6;, score=0.571 total time=   0.0s\n",
            "[CV 3/5] END .............C=1e-05, l1_ratio=0.6;, score=0.571 total time=   0.0s\n",
            "[CV 4/5] END .............C=1e-05, l1_ratio=0.6;, score=0.570 total time=   0.0s\n",
            "[CV 5/5] END .............C=1e-05, l1_ratio=0.6;, score=0.570 total time=   0.0s\n",
            "[CV 1/5] END .............C=1e-05, l1_ratio=0.8;, score=0.570 total time=   0.0s\n",
            "[CV 2/5] END .............C=1e-05, l1_ratio=0.8;, score=0.571 total time=   0.0s\n",
            "[CV 3/5] END .............C=1e-05, l1_ratio=0.8;, score=0.571 total time=   0.0s\n",
            "[CV 4/5] END .............C=1e-05, l1_ratio=0.8;, score=0.570 total time=   0.0s\n",
            "[CV 5/5] END .............C=1e-05, l1_ratio=0.8;, score=0.570 total time=   0.0s\n",
            "[CV 1/5] END ...............C=1e-05, l1_ratio=1;, score=0.430 total time=   0.0s\n",
            "[CV 2/5] END ...............C=1e-05, l1_ratio=1;, score=0.429 total time=   0.0s\n",
            "[CV 3/5] END ...............C=1e-05, l1_ratio=1;, score=0.571 total time=   0.0s\n",
            "[CV 4/5] END ...............C=1e-05, l1_ratio=1;, score=0.430 total time=   0.0s\n",
            "[CV 5/5] END ...............C=1e-05, l1_ratio=1;, score=0.430 total time=   0.0s\n",
            "[CV 1/5] END ..............C=0.0001, l1_ratio=0;, score=0.570 total time=   0.4s\n",
            "[CV 2/5] END ..............C=0.0001, l1_ratio=0;, score=0.571 total time=   0.5s\n",
            "[CV 3/5] END ..............C=0.0001, l1_ratio=0;, score=0.571 total time=   0.4s\n",
            "[CV 4/5] END ..............C=0.0001, l1_ratio=0;, score=0.570 total time=   0.5s\n",
            "[CV 5/5] END ..............C=0.0001, l1_ratio=0;, score=0.570 total time=   0.5s\n",
            "[CV 1/5] END ............C=0.0001, l1_ratio=0.2;, score=0.570 total time=   0.1s\n",
            "[CV 2/5] END ............C=0.0001, l1_ratio=0.2;, score=0.429 total time=   0.0s\n",
            "[CV 3/5] END ............C=0.0001, l1_ratio=0.2;, score=0.571 total time=   0.1s\n",
            "[CV 4/5] END ............C=0.0001, l1_ratio=0.2;, score=0.570 total time=   0.0s\n",
            "[CV 5/5] END ............C=0.0001, l1_ratio=0.2;, score=0.570 total time=   0.1s\n",
            "[CV 1/5] END ............C=0.0001, l1_ratio=0.4;, score=0.570 total time=   0.0s\n",
            "[CV 2/5] END ............C=0.0001, l1_ratio=0.4;, score=0.571 total time=   0.0s\n",
            "[CV 3/5] END ............C=0.0001, l1_ratio=0.4;, score=0.571 total time=   0.0s\n",
            "[CV 4/5] END ............C=0.0001, l1_ratio=0.4;, score=0.570 total time=   0.0s\n",
            "[CV 5/5] END ............C=0.0001, l1_ratio=0.4;, score=0.570 total time=   0.0s\n",
            "[CV 1/5] END ............C=0.0001, l1_ratio=0.6;, score=0.570 total time=   0.0s\n",
            "[CV 2/5] END ............C=0.0001, l1_ratio=0.6;, score=0.571 total time=   0.0s\n",
            "[CV 3/5] END ............C=0.0001, l1_ratio=0.6;, score=0.429 total time=   0.0s\n",
            "[CV 4/5] END ............C=0.0001, l1_ratio=0.6;, score=0.570 total time=   0.0s\n",
            "[CV 5/5] END ............C=0.0001, l1_ratio=0.6;, score=0.430 total time=   0.0s\n",
            "[CV 1/5] END ............C=0.0001, l1_ratio=0.8;, score=0.570 total time=   0.0s\n",
            "[CV 2/5] END ............C=0.0001, l1_ratio=0.8;, score=0.429 total time=   0.0s\n",
            "[CV 3/5] END ............C=0.0001, l1_ratio=0.8;, score=0.429 total time=   0.0s\n",
            "[CV 4/5] END ............C=0.0001, l1_ratio=0.8;, score=0.570 total time=   0.0s\n",
            "[CV 5/5] END ............C=0.0001, l1_ratio=0.8;, score=0.570 total time=   0.0s\n",
            "[CV 1/5] END ..............C=0.0001, l1_ratio=1;, score=0.570 total time=   0.0s\n",
            "[CV 2/5] END ..............C=0.0001, l1_ratio=1;, score=0.571 total time=   0.0s\n",
            "[CV 3/5] END ..............C=0.0001, l1_ratio=1;, score=0.429 total time=   0.0s\n",
            "[CV 4/5] END ..............C=0.0001, l1_ratio=1;, score=0.570 total time=   0.0s\n",
            "[CV 5/5] END ..............C=0.0001, l1_ratio=1;, score=0.570 total time=   0.0s\n",
            "[CV 1/5] END ...............C=0.001, l1_ratio=0;, score=0.570 total time=   0.2s\n",
            "[CV 2/5] END ...............C=0.001, l1_ratio=0;, score=0.571 total time=   0.2s\n",
            "[CV 3/5] END ...............C=0.001, l1_ratio=0;, score=0.571 total time=   0.2s\n",
            "[CV 4/5] END ...............C=0.001, l1_ratio=0;, score=0.570 total time=   0.2s\n",
            "[CV 5/5] END ...............C=0.001, l1_ratio=0;, score=0.570 total time=   0.2s\n",
            "[CV 1/5] END .............C=0.001, l1_ratio=0.2;, score=0.570 total time=   0.0s\n",
            "[CV 2/5] END .............C=0.001, l1_ratio=0.2;, score=0.571 total time=   0.0s\n",
            "[CV 3/5] END .............C=0.001, l1_ratio=0.2;, score=0.571 total time=   0.0s\n",
            "[CV 4/5] END .............C=0.001, l1_ratio=0.2;, score=0.570 total time=   0.0s\n",
            "[CV 5/5] END .............C=0.001, l1_ratio=0.2;, score=0.570 total time=   0.0s\n",
            "[CV 1/5] END .............C=0.001, l1_ratio=0.4;, score=0.570 total time=   0.0s\n",
            "[CV 2/5] END .............C=0.001, l1_ratio=0.4;, score=0.571 total time=   0.0s\n",
            "[CV 3/5] END .............C=0.001, l1_ratio=0.4;, score=0.571 total time=   0.0s\n",
            "[CV 4/5] END .............C=0.001, l1_ratio=0.4;, score=0.570 total time=   0.0s\n",
            "[CV 5/5] END .............C=0.001, l1_ratio=0.4;, score=0.570 total time=   0.0s\n",
            "[CV 1/5] END .............C=0.001, l1_ratio=0.6;, score=0.570 total time=   0.0s\n",
            "[CV 2/5] END .............C=0.001, l1_ratio=0.6;, score=0.571 total time=   0.0s\n",
            "[CV 3/5] END .............C=0.001, l1_ratio=0.6;, score=0.429 total time=   0.0s\n",
            "[CV 4/5] END .............C=0.001, l1_ratio=0.6;, score=0.570 total time=   0.0s\n",
            "[CV 5/5] END .............C=0.001, l1_ratio=0.6;, score=0.570 total time=   0.0s\n",
            "[CV 1/5] END .............C=0.001, l1_ratio=0.8;, score=0.570 total time=   0.0s\n",
            "[CV 2/5] END .............C=0.001, l1_ratio=0.8;, score=0.571 total time=   0.0s\n",
            "[CV 3/5] END .............C=0.001, l1_ratio=0.8;, score=0.571 total time=   0.0s\n",
            "[CV 4/5] END .............C=0.001, l1_ratio=0.8;, score=0.570 total time=   0.0s\n",
            "[CV 5/5] END .............C=0.001, l1_ratio=0.8;, score=0.430 total time=   0.0s\n",
            "[CV 1/5] END ...............C=0.001, l1_ratio=1;, score=0.570 total time=   0.0s\n",
            "[CV 2/5] END ...............C=0.001, l1_ratio=1;, score=0.571 total time=   0.0s\n",
            "[CV 3/5] END ...............C=0.001, l1_ratio=1;, score=0.571 total time=   0.0s\n",
            "[CV 4/5] END ...............C=0.001, l1_ratio=1;, score=0.570 total time=   0.0s\n",
            "[CV 5/5] END ...............C=0.001, l1_ratio=1;, score=0.570 total time=   0.0s\n",
            "[CV 1/5] END ................C=0.01, l1_ratio=0;, score=0.570 total time=   0.1s\n",
            "[CV 2/5] END ................C=0.01, l1_ratio=0;, score=0.571 total time=   0.1s\n",
            "[CV 3/5] END ................C=0.01, l1_ratio=0;, score=0.571 total time=   0.1s\n",
            "[CV 4/5] END ................C=0.01, l1_ratio=0;, score=0.570 total time=   0.1s\n",
            "[CV 5/5] END ................C=0.01, l1_ratio=0;, score=0.570 total time=   0.1s\n",
            "[CV 1/5] END ..............C=0.01, l1_ratio=0.2;, score=0.570 total time=   0.1s\n",
            "[CV 2/5] END ..............C=0.01, l1_ratio=0.2;, score=0.571 total time=   0.1s\n",
            "[CV 3/5] END ..............C=0.01, l1_ratio=0.2;, score=0.571 total time=   0.1s\n",
            "[CV 4/5] END ..............C=0.01, l1_ratio=0.2;, score=0.570 total time=   0.1s\n",
            "[CV 5/5] END ..............C=0.01, l1_ratio=0.2;, score=0.570 total time=   0.1s\n",
            "[CV 1/5] END ..............C=0.01, l1_ratio=0.4;, score=0.570 total time=   0.0s\n",
            "[CV 2/5] END ..............C=0.01, l1_ratio=0.4;, score=0.571 total time=   0.0s\n",
            "[CV 3/5] END ..............C=0.01, l1_ratio=0.4;, score=0.571 total time=   0.0s\n",
            "[CV 4/5] END ..............C=0.01, l1_ratio=0.4;, score=0.570 total time=   0.0s\n",
            "[CV 5/5] END ..............C=0.01, l1_ratio=0.4;, score=0.570 total time=   0.0s\n",
            "[CV 1/5] END ..............C=0.01, l1_ratio=0.6;, score=0.570 total time=   0.0s\n",
            "[CV 2/5] END ..............C=0.01, l1_ratio=0.6;, score=0.571 total time=   0.0s\n",
            "[CV 3/5] END ..............C=0.01, l1_ratio=0.6;, score=0.571 total time=   0.0s\n",
            "[CV 4/5] END ..............C=0.01, l1_ratio=0.6;, score=0.570 total time=   0.0s\n",
            "[CV 5/5] END ..............C=0.01, l1_ratio=0.6;, score=0.570 total time=   0.0s\n",
            "[CV 1/5] END ..............C=0.01, l1_ratio=0.8;, score=0.570 total time=   0.0s\n",
            "[CV 2/5] END ..............C=0.01, l1_ratio=0.8;, score=0.571 total time=   0.0s\n",
            "[CV 3/5] END ..............C=0.01, l1_ratio=0.8;, score=0.571 total time=   0.0s\n",
            "[CV 4/5] END ..............C=0.01, l1_ratio=0.8;, score=0.570 total time=   0.0s\n",
            "[CV 5/5] END ..............C=0.01, l1_ratio=0.8;, score=0.570 total time=   0.0s\n",
            "[CV 1/5] END ................C=0.01, l1_ratio=1;, score=0.570 total time=   0.0s\n",
            "[CV 2/5] END ................C=0.01, l1_ratio=1;, score=0.571 total time=   0.0s\n",
            "[CV 3/5] END ................C=0.01, l1_ratio=1;, score=0.571 total time=   0.0s\n",
            "[CV 4/5] END ................C=0.01, l1_ratio=1;, score=0.570 total time=   0.0s\n",
            "[CV 5/5] END ................C=0.01, l1_ratio=1;, score=0.570 total time=   0.0s\n",
            "[CV 1/5] END .................C=0.1, l1_ratio=0;, score=0.654 total time=   0.1s\n",
            "[CV 2/5] END .................C=0.1, l1_ratio=0;, score=0.654 total time=   0.1s\n",
            "[CV 3/5] END .................C=0.1, l1_ratio=0;, score=0.641 total time=   0.1s\n",
            "[CV 4/5] END .................C=0.1, l1_ratio=0;, score=0.646 total time=   0.1s\n",
            "[CV 5/5] END .................C=0.1, l1_ratio=0;, score=0.706 total time=   0.1s\n",
            "[CV 1/5] END ...............C=0.1, l1_ratio=0.2;, score=0.624 total time=   0.3s\n",
            "[CV 2/5] END ...............C=0.1, l1_ratio=0.2;, score=0.616 total time=   0.3s\n",
            "[CV 3/5] END ...............C=0.1, l1_ratio=0.2;, score=0.613 total time=   0.3s\n",
            "[CV 4/5] END ...............C=0.1, l1_ratio=0.2;, score=0.624 total time=   0.3s\n",
            "[CV 5/5] END ...............C=0.1, l1_ratio=0.2;, score=0.629 total time=   0.3s\n",
            "[CV 1/5] END ...............C=0.1, l1_ratio=0.4;, score=0.605 total time=   0.2s\n",
            "[CV 2/5] END ...............C=0.1, l1_ratio=0.4;, score=0.607 total time=   0.2s\n",
            "[CV 3/5] END ...............C=0.1, l1_ratio=0.4;, score=0.605 total time=   0.2s\n",
            "[CV 4/5] END ...............C=0.1, l1_ratio=0.4;, score=0.616 total time=   0.1s\n",
            "[CV 5/5] END ...............C=0.1, l1_ratio=0.4;, score=0.608 total time=   0.1s\n",
            "[CV 1/5] END ...............C=0.1, l1_ratio=0.6;, score=0.584 total time=   0.1s\n",
            "[CV 2/5] END ...............C=0.1, l1_ratio=0.6;, score=0.606 total time=   0.1s\n",
            "[CV 3/5] END ...............C=0.1, l1_ratio=0.6;, score=0.615 total time=   0.1s\n",
            "[CV 4/5] END ...............C=0.1, l1_ratio=0.6;, score=0.629 total time=   0.1s\n",
            "[CV 5/5] END ...............C=0.1, l1_ratio=0.6;, score=0.616 total time=   0.1s\n",
            "[CV 1/5] END ...............C=0.1, l1_ratio=0.8;, score=0.573 total time=   0.1s\n",
            "[CV 2/5] END ...............C=0.1, l1_ratio=0.8;, score=0.611 total time=   0.1s\n",
            "[CV 3/5] END ...............C=0.1, l1_ratio=0.8;, score=0.624 total time=   0.1s\n",
            "[CV 4/5] END ...............C=0.1, l1_ratio=0.8;, score=0.643 total time=   0.1s\n",
            "[CV 5/5] END ...............C=0.1, l1_ratio=0.8;, score=0.612 total time=   0.1s\n",
            "[CV 1/5] END .................C=0.1, l1_ratio=1;, score=0.597 total time=   0.1s\n",
            "[CV 2/5] END .................C=0.1, l1_ratio=1;, score=0.604 total time=   0.1s\n",
            "[CV 3/5] END .................C=0.1, l1_ratio=1;, score=0.617 total time=   0.1s\n",
            "[CV 4/5] END .................C=0.1, l1_ratio=1;, score=0.643 total time=   0.1s\n",
            "[CV 5/5] END .................C=0.1, l1_ratio=1;, score=0.602 total time=   0.1s\n",
            "[CV 1/5] END ...................C=1, l1_ratio=0;, score=0.703 total time=   0.1s\n",
            "[CV 2/5] END ...................C=1, l1_ratio=0;, score=0.632 total time=   0.1s\n",
            "[CV 3/5] END ...................C=1, l1_ratio=0;, score=0.668 total time=   0.1s\n",
            "[CV 4/5] END ...................C=1, l1_ratio=0;, score=0.680 total time=   0.1s\n",
            "[CV 5/5] END ...................C=1, l1_ratio=0;, score=0.758 total time=   0.1s\n",
            "[CV 1/5] END .................C=1, l1_ratio=0.2;, score=0.701 total time=   2.9s\n",
            "[CV 2/5] END .................C=1, l1_ratio=0.2;, score=0.620 total time=   2.6s\n",
            "[CV 3/5] END .................C=1, l1_ratio=0.2;, score=0.649 total time=   2.6s\n",
            "[CV 4/5] END .................C=1, l1_ratio=0.2;, score=0.654 total time=   2.7s\n",
            "[CV 5/5] END .................C=1, l1_ratio=0.2;, score=0.740 total time=   2.6s\n",
            "[CV 1/5] END .................C=1, l1_ratio=0.4;, score=0.695 total time=   0.9s\n",
            "[CV 2/5] END .................C=1, l1_ratio=0.4;, score=0.617 total time=   1.0s\n",
            "[CV 3/5] END .................C=1, l1_ratio=0.4;, score=0.636 total time=   0.9s\n",
            "[CV 4/5] END .................C=1, l1_ratio=0.4;, score=0.643 total time=   0.9s\n",
            "[CV 5/5] END .................C=1, l1_ratio=0.4;, score=0.726 total time=   0.9s\n",
            "[CV 1/5] END .................C=1, l1_ratio=0.6;, score=0.688 total time=   0.6s\n",
            "[CV 2/5] END .................C=1, l1_ratio=0.6;, score=0.600 total time=   0.6s\n",
            "[CV 3/5] END .................C=1, l1_ratio=0.6;, score=0.624 total time=   0.6s\n",
            "[CV 4/5] END .................C=1, l1_ratio=0.6;, score=0.633 total time=   0.6s\n",
            "[CV 5/5] END .................C=1, l1_ratio=0.6;, score=0.700 total time=   0.6s\n",
            "[CV 1/5] END .................C=1, l1_ratio=0.8;, score=0.695 total time=   0.7s\n",
            "[CV 2/5] END .................C=1, l1_ratio=0.8;, score=0.581 total time=   0.8s\n",
            "[CV 3/5] END .................C=1, l1_ratio=0.8;, score=0.603 total time=   0.7s\n",
            "[CV 4/5] END .................C=1, l1_ratio=0.8;, score=0.628 total time=   0.7s\n",
            "[CV 5/5] END .................C=1, l1_ratio=0.8;, score=0.683 total time=   0.7s\n",
            "[CV 1/5] END ...................C=1, l1_ratio=1;, score=0.687 total time=   0.8s\n",
            "[CV 2/5] END ...................C=1, l1_ratio=1;, score=0.561 total time=   0.8s\n",
            "[CV 3/5] END ...................C=1, l1_ratio=1;, score=0.582 total time=   0.6s\n",
            "[CV 4/5] END ...................C=1, l1_ratio=1;, score=0.611 total time=   0.9s\n",
            "[CV 5/5] END ...................C=1, l1_ratio=1;, score=0.654 total time=   0.8s\n"
          ]
        },
        {
          "output_type": "execute_result",
          "data": {
            "text/plain": [
              "GridSearchCV(estimator=LogisticRegression(max_iter=10000, penalty='elasticnet',\n",
              "                                          solver='saga'),\n",
              "             param_grid={'C': [1e-05, 0.0001, 0.001, 0.01, 0.1, 1],\n",
              "                         'l1_ratio': [0, 0.2, 0.4, 0.6, 0.8, 1]},\n",
              "             verbose=8)"
            ]
          },
          "metadata": {},
          "execution_count": 12
        }
      ]
    },
    {
      "cell_type": "code",
      "metadata": {
        "colab": {
          "base_uri": "https://localhost:8080/"
        },
        "id": "q3M9svXYARYy",
        "outputId": "7be3da3a-b8fc-4e37-acd1-e0d878fab735"
      },
      "source": [
        "clf.cv_results_"
      ],
      "id": "q3M9svXYARYy",
      "execution_count": null,
      "outputs": [
        {
          "output_type": "execute_result",
          "data": {
            "text/plain": [
              "{'mean_fit_time': array([4.33831973, 0.03424616, 0.03567758, 0.03633251, 0.03265805,\n",
              "        0.00617938, 0.43893971, 0.05525279, 0.02367101, 0.02308707,\n",
              "        0.01694655, 0.00626683, 0.16498985, 0.03520236, 0.02527881,\n",
              "        0.01218023, 0.01199293, 0.01062803, 0.06663151, 0.07907577,\n",
              "        0.02753706, 0.02548952, 0.02452688, 0.02351961, 0.05721574,\n",
              "        0.29757228, 0.14894733, 0.09265552, 0.07607145, 0.06478853,\n",
              "        0.06270533, 2.69016237, 0.91057253, 0.60573001, 0.72980862,\n",
              "        0.79112759]),\n",
              " 'mean_score_time': array([0.00085006, 0.00065002, 0.00068202, 0.00073719, 0.0006875 ,\n",
              "        0.00055418, 0.00082407, 0.0007081 , 0.00057721, 0.00063725,\n",
              "        0.00059443, 0.00057654, 0.00081296, 0.00064654, 0.00061574,\n",
              "        0.00053616, 0.00053525, 0.00052004, 0.00067282, 0.00070577,\n",
              "        0.00060897, 0.0005971 , 0.00079021, 0.00064621, 0.00076513,\n",
              "        0.00082326, 0.00079675, 0.00096035, 0.00082679, 0.00081115,\n",
              "        0.00080619, 0.00085959, 0.00084605, 0.00080686, 0.00079837,\n",
              "        0.0008522 ]),\n",
              " 'mean_test_score': array([0.5703402 , 0.5703402 , 0.5703402 , 0.5703402 , 0.5703402 ,\n",
              "        0.45789355, 0.5703402 , 0.54210645, 0.5703402 , 0.51398555,\n",
              "        0.5138727 , 0.54210645, 0.5703402 , 0.5703402 , 0.5703402 ,\n",
              "        0.54210645, 0.5422193 , 0.5703402 , 0.5703402 , 0.5703402 ,\n",
              "        0.5703402 , 0.5703402 , 0.5703402 , 0.5703402 , 0.66005929,\n",
              "        0.6211757 , 0.60843389, 0.6101438 , 0.61237753, 0.61263888,\n",
              "        0.68804179, 0.67293432, 0.66347594, 0.64902602, 0.63799231,\n",
              "        0.61933886]),\n",
              " 'param_C': masked_array(data=[1e-05, 1e-05, 1e-05, 1e-05, 1e-05, 1e-05, 0.0001,\n",
              "                    0.0001, 0.0001, 0.0001, 0.0001, 0.0001, 0.001, 0.001,\n",
              "                    0.001, 0.001, 0.001, 0.001, 0.01, 0.01, 0.01, 0.01,\n",
              "                    0.01, 0.01, 0.1, 0.1, 0.1, 0.1, 0.1, 0.1, 1, 1, 1, 1,\n",
              "                    1, 1],\n",
              "              mask=[False, False, False, False, False, False, False, False,\n",
              "                    False, False, False, False, False, False, False, False,\n",
              "                    False, False, False, False, False, False, False, False,\n",
              "                    False, False, False, False, False, False, False, False,\n",
              "                    False, False, False, False],\n",
              "        fill_value='?',\n",
              "             dtype=object),\n",
              " 'param_l1_ratio': masked_array(data=[0, 0.2, 0.4, 0.6, 0.8, 1, 0, 0.2, 0.4, 0.6, 0.8, 1, 0,\n",
              "                    0.2, 0.4, 0.6, 0.8, 1, 0, 0.2, 0.4, 0.6, 0.8, 1, 0,\n",
              "                    0.2, 0.4, 0.6, 0.8, 1, 0, 0.2, 0.4, 0.6, 0.8, 1],\n",
              "              mask=[False, False, False, False, False, False, False, False,\n",
              "                    False, False, False, False, False, False, False, False,\n",
              "                    False, False, False, False, False, False, False, False,\n",
              "                    False, False, False, False, False, False, False, False,\n",
              "                    False, False, False, False],\n",
              "        fill_value='?',\n",
              "             dtype=object),\n",
              " 'params': [{'C': 1e-05, 'l1_ratio': 0},\n",
              "  {'C': 1e-05, 'l1_ratio': 0.2},\n",
              "  {'C': 1e-05, 'l1_ratio': 0.4},\n",
              "  {'C': 1e-05, 'l1_ratio': 0.6},\n",
              "  {'C': 1e-05, 'l1_ratio': 0.8},\n",
              "  {'C': 1e-05, 'l1_ratio': 1},\n",
              "  {'C': 0.0001, 'l1_ratio': 0},\n",
              "  {'C': 0.0001, 'l1_ratio': 0.2},\n",
              "  {'C': 0.0001, 'l1_ratio': 0.4},\n",
              "  {'C': 0.0001, 'l1_ratio': 0.6},\n",
              "  {'C': 0.0001, 'l1_ratio': 0.8},\n",
              "  {'C': 0.0001, 'l1_ratio': 1},\n",
              "  {'C': 0.001, 'l1_ratio': 0},\n",
              "  {'C': 0.001, 'l1_ratio': 0.2},\n",
              "  {'C': 0.001, 'l1_ratio': 0.4},\n",
              "  {'C': 0.001, 'l1_ratio': 0.6},\n",
              "  {'C': 0.001, 'l1_ratio': 0.8},\n",
              "  {'C': 0.001, 'l1_ratio': 1},\n",
              "  {'C': 0.01, 'l1_ratio': 0},\n",
              "  {'C': 0.01, 'l1_ratio': 0.2},\n",
              "  {'C': 0.01, 'l1_ratio': 0.4},\n",
              "  {'C': 0.01, 'l1_ratio': 0.6},\n",
              "  {'C': 0.01, 'l1_ratio': 0.8},\n",
              "  {'C': 0.01, 'l1_ratio': 1},\n",
              "  {'C': 0.1, 'l1_ratio': 0},\n",
              "  {'C': 0.1, 'l1_ratio': 0.2},\n",
              "  {'C': 0.1, 'l1_ratio': 0.4},\n",
              "  {'C': 0.1, 'l1_ratio': 0.6},\n",
              "  {'C': 0.1, 'l1_ratio': 0.8},\n",
              "  {'C': 0.1, 'l1_ratio': 1},\n",
              "  {'C': 1, 'l1_ratio': 0},\n",
              "  {'C': 1, 'l1_ratio': 0.2},\n",
              "  {'C': 1, 'l1_ratio': 0.4},\n",
              "  {'C': 1, 'l1_ratio': 0.6},\n",
              "  {'C': 1, 'l1_ratio': 0.8},\n",
              "  {'C': 1, 'l1_ratio': 1}],\n",
              " 'rank_test_score': array([13, 13, 13, 13, 13, 36, 13, 31, 13, 34, 35, 31, 13, 13, 13, 31, 30,\n",
              "        13, 13, 13, 13, 13, 13, 13,  4,  7, 12, 11, 10,  9,  1,  2,  3,  5,\n",
              "         6,  8], dtype=int32),\n",
              " 'split0_test_score': array([0.56992777, 0.56992777, 0.56992777, 0.56992777, 0.56992777,\n",
              "        0.43007223, 0.56992777, 0.56992777, 0.56992777, 0.56992777,\n",
              "        0.56992777, 0.56992777, 0.56992777, 0.56992777, 0.56992777,\n",
              "        0.56992777, 0.56992777, 0.56992777, 0.56992777, 0.56992777,\n",
              "        0.56992777, 0.56992777, 0.56992777, 0.56992777, 0.65397242,\n",
              "        0.62376888, 0.60538411, 0.58437295, 0.57255417, 0.59684833,\n",
              "        0.70256074, 0.70059094, 0.69468155, 0.68811556, 0.69468155,\n",
              "        0.68745896]),\n",
              " 'split1_test_score': array([0.57058437, 0.57058437, 0.57058437, 0.57058437, 0.57058437,\n",
              "        0.42941563, 0.57058437, 0.42941563, 0.57058437, 0.57058437,\n",
              "        0.42941563, 0.57058437, 0.57058437, 0.57058437, 0.57058437,\n",
              "        0.57058437, 0.57058437, 0.57058437, 0.57058437, 0.57058437,\n",
              "        0.57058437, 0.57058437, 0.57058437, 0.57058437, 0.65397242,\n",
              "        0.61588969, 0.60735391, 0.60604071, 0.6106369 , 0.60407091,\n",
              "        0.63164806, 0.61982928, 0.61720289, 0.60013132, 0.58108995,\n",
              "        0.56139199]),\n",
              " 'split2_test_score': array([0.57058437, 0.57058437, 0.57058437, 0.57058437, 0.57058437,\n",
              "        0.57058437, 0.57058437, 0.57058437, 0.57058437, 0.42941563,\n",
              "        0.42941563, 0.42941563, 0.57058437, 0.57058437, 0.57058437,\n",
              "        0.42941563, 0.57058437, 0.57058437, 0.57058437, 0.57058437,\n",
              "        0.57058437, 0.57058437, 0.57058437, 0.57058437, 0.64084045,\n",
              "        0.6132633 , 0.60538411, 0.61523309, 0.62376888, 0.61720289,\n",
              "        0.667761  , 0.64937623, 0.63624425, 0.62376888, 0.60275772,\n",
              "        0.58240315]),\n",
              " 'split3_test_score': array([0.57030223, 0.57030223, 0.57030223, 0.57030223, 0.57030223,\n",
              "        0.42969777, 0.57030223, 0.57030223, 0.57030223, 0.57030223,\n",
              "        0.57030223, 0.57030223, 0.57030223, 0.57030223, 0.57030223,\n",
              "        0.57030223, 0.57030223, 0.57030223, 0.57030223, 0.57030223,\n",
              "        0.57030223, 0.57030223, 0.57030223, 0.57030223, 0.64586071,\n",
              "        0.62352168, 0.61563732, 0.62943495, 0.64257556, 0.64257556,\n",
              "        0.68002628, 0.6544021 , 0.64323259, 0.63272011, 0.62812089,\n",
              "        0.61103811]),\n",
              " 'split4_test_score': array([0.57030223, 0.57030223, 0.57030223, 0.57030223, 0.57030223,\n",
              "        0.42969777, 0.57030223, 0.57030223, 0.57030223, 0.42969777,\n",
              "        0.57030223, 0.57030223, 0.57030223, 0.57030223, 0.57030223,\n",
              "        0.57030223, 0.42969777, 0.57030223, 0.57030223, 0.57030223,\n",
              "        0.57030223, 0.57030223, 0.57030223, 0.57030223, 0.70565046,\n",
              "        0.62943495, 0.60840999, 0.61563732, 0.61235217, 0.60249671,\n",
              "        0.75821288, 0.74047306, 0.7260184 , 0.70039422, 0.68331143,\n",
              "        0.6544021 ]),\n",
              " 'std_fit_time': array([3.97903099e-01, 1.14889019e-03, 1.97965130e-03, 1.77557830e-03,\n",
              "        1.39010939e-03, 2.62475160e-04, 3.06821820e-02, 2.18902052e-02,\n",
              "        2.43167250e-04, 2.66888489e-03, 1.16025561e-03, 4.42197015e-04,\n",
              "        9.71672460e-03, 6.99655910e-03, 9.04745007e-03, 6.42329032e-03,\n",
              "        4.06534711e-03, 2.70305362e-03, 3.21921933e-03, 9.68273017e-03,\n",
              "        4.32309911e-03, 3.56082171e-03, 3.74576565e-03, 5.55593395e-03,\n",
              "        4.81205289e-03, 2.46035832e-02, 1.23337120e-02, 7.18392645e-03,\n",
              "        5.41878965e-03, 6.28586827e-03, 3.02684431e-03, 1.22818967e-01,\n",
              "        3.37247563e-02, 2.43865436e-02, 2.14933940e-02, 9.17741560e-02]),\n",
              " 'std_score_time': array([4.02153841e-05, 5.38396664e-05, 1.31598417e-05, 1.43370827e-04,\n",
              "        6.31341401e-05, 1.89668536e-05, 5.51473254e-05, 5.83602710e-05,\n",
              "        4.85257663e-05, 6.89525986e-05, 5.02852762e-05, 1.23481804e-04,\n",
              "        3.54961629e-05, 8.75555868e-05, 5.24968476e-05, 3.62353573e-05,\n",
              "        2.76059477e-05, 3.97492897e-05, 5.27391382e-05, 5.31869903e-05,\n",
              "        6.60954441e-05, 3.10181014e-05, 1.65936358e-04, 7.08352151e-05,\n",
              "        3.89387688e-05, 3.57278017e-05, 3.25527896e-05, 3.09657661e-04,\n",
              "        4.65866243e-05, 2.85009044e-05, 6.27652476e-06, 5.25520413e-05,\n",
              "        3.76627710e-05, 4.08380892e-05, 4.91698885e-05, 8.03967246e-05]),\n",
              " 'std_test_score': array([0.00024175, 0.00024175, 0.00024175, 0.00024175, 0.00024175,\n",
              "        0.0563458 , 0.00024175, 0.0563458 , 0.00024175, 0.06893625,\n",
              "        0.06895905, 0.0563458 , 0.00024175, 0.00024175, 0.00024175,\n",
              "        0.0563458 , 0.05626129, 0.00024175, 0.00024175, 0.00024175,\n",
              "        0.00024175, 0.00024175, 0.00024175, 0.00024175, 0.02333932,\n",
              "        0.00584793, 0.00378573, 0.0148943 , 0.02293737, 0.01638689,\n",
              "        0.04192992, 0.0425322 , 0.04044231, 0.03862948, 0.04437182,\n",
              "        0.04617525])}"
            ]
          },
          "metadata": {},
          "execution_count": 13
        }
      ]
    },
    {
      "cell_type": "code",
      "metadata": {
        "colab": {
          "base_uri": "https://localhost:8080/"
        },
        "id": "PzNs2IQAAT8y",
        "outputId": "056f97e4-8f8e-43aa-a79c-bf102eb5324a"
      },
      "source": [
        "clf.best_score_"
      ],
      "id": "PzNs2IQAAT8y",
      "execution_count": null,
      "outputs": [
        {
          "output_type": "execute_result",
          "data": {
            "text/plain": [
              "0.6880417910911361"
            ]
          },
          "metadata": {},
          "execution_count": 14
        }
      ]
    },
    {
      "cell_type": "code",
      "metadata": {
        "colab": {
          "base_uri": "https://localhost:8080/"
        },
        "id": "f-8T1EIaAcC-",
        "outputId": "6d31bec8-9764-493c-f022-d975a73e5d20"
      },
      "source": [
        "clf.best_params_"
      ],
      "id": "f-8T1EIaAcC-",
      "execution_count": null,
      "outputs": [
        {
          "output_type": "execute_result",
          "data": {
            "text/plain": [
              "{'C': 1, 'l1_ratio': 0}"
            ]
          },
          "metadata": {},
          "execution_count": 15
        }
      ]
    },
    {
      "cell_type": "code",
      "metadata": {
        "colab": {
          "base_uri": "https://localhost:8080/"
        },
        "id": "YshCyqw_cm0s",
        "outputId": "ba809b9d-de10-4bc8-9b85-18b7246f61f8"
      },
      "source": [
        "from sklearn import svm\n",
        "from sklearn.model_selection import GridSearchCV\n",
        "param_grid = {'C': [0.1, 1, 10, 100],\n",
        "              'gamma': [0.1, 0.01, 0.001, 0.0001],\n",
        "              'kernel': ['rbf', 'linear']}\n",
        "svm = svm.SVC()\n",
        "clf = GridSearchCV(svm, param_grid, verbose = 5)\n",
        "clf.fit(x_train, Y)"
      ],
      "id": "YshCyqw_cm0s",
      "execution_count": null,
      "outputs": [
        {
          "output_type": "stream",
          "name": "stdout",
          "text": [
            "Fitting 5 folds for each of 32 candidates, totalling 160 fits\n",
            "[CV 1/5] END ......C=0.1, gamma=0.1, kernel=rbf;, score=0.570 total time=   7.9s\n",
            "[CV 2/5] END ......C=0.1, gamma=0.1, kernel=rbf;, score=0.571 total time=   7.8s\n",
            "[CV 3/5] END ......C=0.1, gamma=0.1, kernel=rbf;, score=0.571 total time=   7.7s\n",
            "[CV 4/5] END ......C=0.1, gamma=0.1, kernel=rbf;, score=0.570 total time=   7.7s\n",
            "[CV 5/5] END ......C=0.1, gamma=0.1, kernel=rbf;, score=0.570 total time=   7.9s\n",
            "[CV 1/5] END ...C=0.1, gamma=0.1, kernel=linear;, score=0.657 total time=   6.8s\n",
            "[CV 2/5] END ...C=0.1, gamma=0.1, kernel=linear;, score=0.652 total time=   6.9s\n",
            "[CV 3/5] END ...C=0.1, gamma=0.1, kernel=linear;, score=0.628 total time=   6.9s\n",
            "[CV 4/5] END ...C=0.1, gamma=0.1, kernel=linear;, score=0.641 total time=   7.0s\n",
            "[CV 5/5] END ...C=0.1, gamma=0.1, kernel=linear;, score=0.729 total time=   7.0s\n",
            "[CV 1/5] END .....C=0.1, gamma=0.01, kernel=rbf;, score=0.570 total time=   7.7s\n",
            "[CV 2/5] END .....C=0.1, gamma=0.01, kernel=rbf;, score=0.571 total time=   7.8s\n",
            "[CV 3/5] END .....C=0.1, gamma=0.01, kernel=rbf;, score=0.571 total time=   7.8s\n",
            "[CV 4/5] END .....C=0.1, gamma=0.01, kernel=rbf;, score=0.570 total time=   7.7s\n",
            "[CV 5/5] END .....C=0.1, gamma=0.01, kernel=rbf;, score=0.570 total time=   7.8s\n",
            "[CV 1/5] END ..C=0.1, gamma=0.01, kernel=linear;, score=0.657 total time=   6.9s\n",
            "[CV 2/5] END ..C=0.1, gamma=0.01, kernel=linear;, score=0.652 total time=   6.9s\n",
            "[CV 3/5] END ..C=0.1, gamma=0.01, kernel=linear;, score=0.628 total time=   6.9s\n",
            "[CV 4/5] END ..C=0.1, gamma=0.01, kernel=linear;, score=0.641 total time=   7.0s\n",
            "[CV 5/5] END ..C=0.1, gamma=0.01, kernel=linear;, score=0.729 total time=   7.1s\n",
            "[CV 1/5] END ....C=0.1, gamma=0.001, kernel=rbf;, score=0.570 total time=   7.7s\n",
            "[CV 2/5] END ....C=0.1, gamma=0.001, kernel=rbf;, score=0.571 total time=   7.7s\n",
            "[CV 3/5] END ....C=0.1, gamma=0.001, kernel=rbf;, score=0.571 total time=   7.7s\n",
            "[CV 4/5] END ....C=0.1, gamma=0.001, kernel=rbf;, score=0.570 total time=   7.7s\n",
            "[CV 5/5] END ....C=0.1, gamma=0.001, kernel=rbf;, score=0.570 total time=   7.7s\n",
            "[CV 1/5] END .C=0.1, gamma=0.001, kernel=linear;, score=0.657 total time=   6.9s\n",
            "[CV 2/5] END .C=0.1, gamma=0.001, kernel=linear;, score=0.652 total time=   6.9s\n",
            "[CV 3/5] END .C=0.1, gamma=0.001, kernel=linear;, score=0.628 total time=   6.9s\n",
            "[CV 4/5] END .C=0.1, gamma=0.001, kernel=linear;, score=0.641 total time=   7.0s\n",
            "[CV 5/5] END .C=0.1, gamma=0.001, kernel=linear;, score=0.729 total time=   7.1s\n",
            "[CV 1/5] END ...C=0.1, gamma=0.0001, kernel=rbf;, score=0.570 total time=   7.7s\n",
            "[CV 2/5] END ...C=0.1, gamma=0.0001, kernel=rbf;, score=0.571 total time=   7.7s\n",
            "[CV 3/5] END ...C=0.1, gamma=0.0001, kernel=rbf;, score=0.571 total time=   7.7s\n",
            "[CV 4/5] END ...C=0.1, gamma=0.0001, kernel=rbf;, score=0.570 total time=   7.7s\n",
            "[CV 5/5] END ...C=0.1, gamma=0.0001, kernel=rbf;, score=0.570 total time=   7.7s\n",
            "[CV 1/5] END C=0.1, gamma=0.0001, kernel=linear;, score=0.657 total time=   7.0s\n",
            "[CV 2/5] END C=0.1, gamma=0.0001, kernel=linear;, score=0.652 total time=   7.0s\n",
            "[CV 3/5] END C=0.1, gamma=0.0001, kernel=linear;, score=0.628 total time=   7.0s\n",
            "[CV 4/5] END C=0.1, gamma=0.0001, kernel=linear;, score=0.641 total time=   7.0s\n",
            "[CV 5/5] END C=0.1, gamma=0.0001, kernel=linear;, score=0.729 total time=   7.2s\n",
            "[CV 1/5] END ........C=1, gamma=0.1, kernel=rbf;, score=0.689 total time=   7.3s\n",
            "[CV 2/5] END ........C=1, gamma=0.1, kernel=rbf;, score=0.644 total time=   7.1s\n",
            "[CV 3/5] END ........C=1, gamma=0.1, kernel=rbf;, score=0.641 total time=   7.1s\n",
            "[CV 4/5] END ........C=1, gamma=0.1, kernel=rbf;, score=0.668 total time=   7.2s\n",
            "[CV 5/5] END ........C=1, gamma=0.1, kernel=rbf;, score=0.752 total time=   7.4s\n",
            "[CV 1/5] END .....C=1, gamma=0.1, kernel=linear;, score=0.712 total time=   6.0s\n",
            "[CV 2/5] END .....C=1, gamma=0.1, kernel=linear;, score=0.603 total time=   5.8s\n",
            "[CV 3/5] END .....C=1, gamma=0.1, kernel=linear;, score=0.657 total time=   5.8s\n",
            "[CV 4/5] END .....C=1, gamma=0.1, kernel=linear;, score=0.653 total time=   6.0s\n",
            "[CV 5/5] END .....C=1, gamma=0.1, kernel=linear;, score=0.706 total time=   6.2s\n",
            "[CV 1/5] END .......C=1, gamma=0.01, kernel=rbf;, score=0.570 total time=   8.0s\n",
            "[CV 2/5] END .......C=1, gamma=0.01, kernel=rbf;, score=0.571 total time=   7.9s\n",
            "[CV 3/5] END .......C=1, gamma=0.01, kernel=rbf;, score=0.571 total time=   8.0s\n",
            "[CV 4/5] END .......C=1, gamma=0.01, kernel=rbf;, score=0.570 total time=   8.0s\n",
            "[CV 5/5] END .......C=1, gamma=0.01, kernel=rbf;, score=0.570 total time=   8.0s\n",
            "[CV 1/5] END ....C=1, gamma=0.01, kernel=linear;, score=0.712 total time=   6.0s\n",
            "[CV 2/5] END ....C=1, gamma=0.01, kernel=linear;, score=0.603 total time=   5.8s\n",
            "[CV 3/5] END ....C=1, gamma=0.01, kernel=linear;, score=0.657 total time=   5.9s\n",
            "[CV 4/5] END ....C=1, gamma=0.01, kernel=linear;, score=0.653 total time=   6.0s\n",
            "[CV 5/5] END ....C=1, gamma=0.01, kernel=linear;, score=0.706 total time=   6.2s\n",
            "[CV 1/5] END ......C=1, gamma=0.001, kernel=rbf;, score=0.570 total time=   7.9s\n",
            "[CV 2/5] END ......C=1, gamma=0.001, kernel=rbf;, score=0.571 total time=   7.9s\n",
            "[CV 3/5] END ......C=1, gamma=0.001, kernel=rbf;, score=0.571 total time=   7.8s\n",
            "[CV 4/5] END ......C=1, gamma=0.001, kernel=rbf;, score=0.570 total time=   7.8s\n",
            "[CV 5/5] END ......C=1, gamma=0.001, kernel=rbf;, score=0.570 total time=   7.8s\n",
            "[CV 1/5] END ...C=1, gamma=0.001, kernel=linear;, score=0.712 total time=   6.1s\n",
            "[CV 2/5] END ...C=1, gamma=0.001, kernel=linear;, score=0.603 total time=   5.8s\n",
            "[CV 3/5] END ...C=1, gamma=0.001, kernel=linear;, score=0.657 total time=   5.9s\n",
            "[CV 4/5] END ...C=1, gamma=0.001, kernel=linear;, score=0.653 total time=   6.0s\n",
            "[CV 5/5] END ...C=1, gamma=0.001, kernel=linear;, score=0.706 total time=   6.2s\n",
            "[CV 1/5] END .....C=1, gamma=0.0001, kernel=rbf;, score=0.570 total time=   7.8s\n",
            "[CV 2/5] END .....C=1, gamma=0.0001, kernel=rbf;, score=0.571 total time=   7.8s\n",
            "[CV 3/5] END .....C=1, gamma=0.0001, kernel=rbf;, score=0.571 total time=   7.7s\n",
            "[CV 4/5] END .....C=1, gamma=0.0001, kernel=rbf;, score=0.570 total time=   7.8s\n",
            "[CV 5/5] END .....C=1, gamma=0.0001, kernel=rbf;, score=0.570 total time=   7.8s\n",
            "[CV 1/5] END ..C=1, gamma=0.0001, kernel=linear;, score=0.712 total time=   6.1s\n",
            "[CV 2/5] END ..C=1, gamma=0.0001, kernel=linear;, score=0.603 total time=   5.8s\n",
            "[CV 3/5] END ..C=1, gamma=0.0001, kernel=linear;, score=0.657 total time=   5.9s\n",
            "[CV 4/5] END ..C=1, gamma=0.0001, kernel=linear;, score=0.653 total time=   6.0s\n",
            "[CV 5/5] END ..C=1, gamma=0.0001, kernel=linear;, score=0.706 total time=   6.3s\n",
            "[CV 1/5] END .......C=10, gamma=0.1, kernel=rbf;, score=0.701 total time=   7.9s\n",
            "[CV 2/5] END .......C=10, gamma=0.1, kernel=rbf;, score=0.585 total time=   7.7s\n",
            "[CV 3/5] END .......C=10, gamma=0.1, kernel=rbf;, score=0.648 total time=   7.8s\n",
            "[CV 4/5] END .......C=10, gamma=0.1, kernel=rbf;, score=0.656 total time=   7.8s\n",
            "[CV 5/5] END .......C=10, gamma=0.1, kernel=rbf;, score=0.690 total time=   7.9s\n",
            "[CV 1/5] END ....C=10, gamma=0.1, kernel=linear;, score=0.674 total time=   7.7s\n",
            "[CV 2/5] END ....C=10, gamma=0.1, kernel=linear;, score=0.577 total time=   7.5s\n",
            "[CV 3/5] END ....C=10, gamma=0.1, kernel=linear;, score=0.613 total time=   9.1s\n",
            "[CV 4/5] END ....C=10, gamma=0.1, kernel=linear;, score=0.627 total time=   9.1s\n",
            "[CV 5/5] END ....C=10, gamma=0.1, kernel=linear;, score=0.656 total time=   7.8s\n",
            "[CV 1/5] END ......C=10, gamma=0.01, kernel=rbf;, score=0.698 total time=   7.3s\n",
            "[CV 2/5] END ......C=10, gamma=0.01, kernel=rbf;, score=0.645 total time=   7.1s\n",
            "[CV 3/5] END ......C=10, gamma=0.01, kernel=rbf;, score=0.640 total time=   7.1s\n",
            "[CV 4/5] END ......C=10, gamma=0.01, kernel=rbf;, score=0.668 total time=   7.2s\n",
            "[CV 5/5] END ......C=10, gamma=0.01, kernel=rbf;, score=0.760 total time=   7.5s\n",
            "[CV 1/5] END ...C=10, gamma=0.01, kernel=linear;, score=0.674 total time=   7.7s\n",
            "[CV 2/5] END ...C=10, gamma=0.01, kernel=linear;, score=0.577 total time=   7.5s\n",
            "[CV 3/5] END ...C=10, gamma=0.01, kernel=linear;, score=0.613 total time=   9.1s\n",
            "[CV 4/5] END ...C=10, gamma=0.01, kernel=linear;, score=0.627 total time=   9.1s\n",
            "[CV 5/5] END ...C=10, gamma=0.01, kernel=linear;, score=0.656 total time=   7.8s\n",
            "[CV 1/5] END .....C=10, gamma=0.001, kernel=rbf;, score=0.570 total time=   8.1s\n",
            "[CV 2/5] END .....C=10, gamma=0.001, kernel=rbf;, score=0.571 total time=   8.0s\n",
            "[CV 3/5] END .....C=10, gamma=0.001, kernel=rbf;, score=0.571 total time=   8.0s\n",
            "[CV 4/5] END .....C=10, gamma=0.001, kernel=rbf;, score=0.570 total time=   8.0s\n",
            "[CV 5/5] END .....C=10, gamma=0.001, kernel=rbf;, score=0.570 total time=   8.1s\n",
            "[CV 1/5] END ..C=10, gamma=0.001, kernel=linear;, score=0.674 total time=   7.7s\n",
            "[CV 2/5] END ..C=10, gamma=0.001, kernel=linear;, score=0.577 total time=   7.6s\n",
            "[CV 3/5] END ..C=10, gamma=0.001, kernel=linear;, score=0.613 total time=   9.1s\n",
            "[CV 4/5] END ..C=10, gamma=0.001, kernel=linear;, score=0.627 total time=   9.1s\n",
            "[CV 5/5] END ..C=10, gamma=0.001, kernel=linear;, score=0.656 total time=   7.8s\n",
            "[CV 1/5] END ....C=10, gamma=0.0001, kernel=rbf;, score=0.570 total time=   8.0s\n",
            "[CV 2/5] END ....C=10, gamma=0.0001, kernel=rbf;, score=0.571 total time=   8.0s\n",
            "[CV 3/5] END ....C=10, gamma=0.0001, kernel=rbf;, score=0.571 total time=   8.0s\n",
            "[CV 4/5] END ....C=10, gamma=0.0001, kernel=rbf;, score=0.570 total time=   8.0s\n",
            "[CV 5/5] END ....C=10, gamma=0.0001, kernel=rbf;, score=0.570 total time=   8.0s\n",
            "[CV 1/5] END .C=10, gamma=0.0001, kernel=linear;, score=0.674 total time=   7.7s\n",
            "[CV 2/5] END .C=10, gamma=0.0001, kernel=linear;, score=0.577 total time=   7.5s\n",
            "[CV 3/5] END .C=10, gamma=0.0001, kernel=linear;, score=0.613 total time=   9.2s\n",
            "[CV 4/5] END .C=10, gamma=0.0001, kernel=linear;, score=0.627 total time=   9.1s\n",
            "[CV 5/5] END .C=10, gamma=0.0001, kernel=linear;, score=0.656 total time=   7.8s\n",
            "[CV 1/5] END ......C=100, gamma=0.1, kernel=rbf;, score=0.682 total time=   8.5s\n",
            "[CV 2/5] END ......C=100, gamma=0.1, kernel=rbf;, score=0.578 total time=   9.7s\n",
            "[CV 3/5] END ......C=100, gamma=0.1, kernel=rbf;, score=0.622 total time=   8.4s\n",
            "[CV 4/5] END ......C=100, gamma=0.1, kernel=rbf;, score=0.635 total time=   8.4s\n",
            "[CV 5/5] END ......C=100, gamma=0.1, kernel=rbf;, score=0.663 total time=   9.8s\n",
            "[CV 1/5] END ...C=100, gamma=0.1, kernel=linear;, score=0.666 total time=   7.8s\n",
            "[CV 2/5] END ...C=100, gamma=0.1, kernel=linear;, score=0.571 total time=   9.4s\n",
            "[CV 3/5] END ...C=100, gamma=0.1, kernel=linear;, score=0.615 total time=   7.7s\n",
            "[CV 4/5] END ...C=100, gamma=0.1, kernel=linear;, score=0.628 total time=   9.2s\n",
            "[CV 5/5] END ...C=100, gamma=0.1, kernel=linear;, score=0.658 total time=   7.9s\n",
            "[CV 1/5] END .....C=100, gamma=0.01, kernel=rbf;, score=0.701 total time=   8.8s\n",
            "[CV 2/5] END .....C=100, gamma=0.01, kernel=rbf;, score=0.580 total time=   7.6s\n",
            "[CV 3/5] END .....C=100, gamma=0.01, kernel=rbf;, score=0.642 total time=   7.5s\n",
            "[CV 4/5] END .....C=100, gamma=0.01, kernel=rbf;, score=0.650 total time=   9.1s\n",
            "[CV 5/5] END .....C=100, gamma=0.01, kernel=rbf;, score=0.684 total time=   7.8s\n",
            "[CV 1/5] END ..C=100, gamma=0.01, kernel=linear;, score=0.666 total time=   7.8s\n",
            "[CV 2/5] END ..C=100, gamma=0.01, kernel=linear;, score=0.571 total time=   9.3s\n",
            "[CV 3/5] END ..C=100, gamma=0.01, kernel=linear;, score=0.615 total time=   7.6s\n",
            "[CV 4/5] END ..C=100, gamma=0.01, kernel=linear;, score=0.628 total time=   9.2s\n",
            "[CV 5/5] END ..C=100, gamma=0.01, kernel=linear;, score=0.658 total time=   7.9s\n",
            "[CV 1/5] END ....C=100, gamma=0.001, kernel=rbf;, score=0.699 total time=   7.2s\n",
            "[CV 2/5] END ....C=100, gamma=0.001, kernel=rbf;, score=0.645 total time=   7.1s\n",
            "[CV 3/5] END ....C=100, gamma=0.001, kernel=rbf;, score=0.641 total time=   7.2s\n",
            "[CV 4/5] END ....C=100, gamma=0.001, kernel=rbf;, score=0.669 total time=   7.3s\n",
            "[CV 5/5] END ....C=100, gamma=0.001, kernel=rbf;, score=0.760 total time=   7.4s\n",
            "[CV 1/5] END .C=100, gamma=0.001, kernel=linear;, score=0.666 total time=   7.8s\n",
            "[CV 2/5] END .C=100, gamma=0.001, kernel=linear;, score=0.571 total time=   9.3s\n",
            "[CV 3/5] END .C=100, gamma=0.001, kernel=linear;, score=0.615 total time=   7.6s\n",
            "[CV 4/5] END .C=100, gamma=0.001, kernel=linear;, score=0.628 total time=   9.2s\n",
            "[CV 5/5] END .C=100, gamma=0.001, kernel=linear;, score=0.658 total time=   7.8s\n",
            "[CV 1/5] END ...C=100, gamma=0.0001, kernel=rbf;, score=0.570 total time=   8.2s\n",
            "[CV 2/5] END ...C=100, gamma=0.0001, kernel=rbf;, score=0.571 total time=   8.0s\n",
            "[CV 3/5] END ...C=100, gamma=0.0001, kernel=rbf;, score=0.571 total time=   8.1s\n",
            "[CV 4/5] END ...C=100, gamma=0.0001, kernel=rbf;, score=0.570 total time=   8.1s\n",
            "[CV 5/5] END ...C=100, gamma=0.0001, kernel=rbf;, score=0.570 total time=   8.1s\n",
            "[CV 1/5] END C=100, gamma=0.0001, kernel=linear;, score=0.666 total time=   7.7s\n",
            "[CV 2/5] END C=100, gamma=0.0001, kernel=linear;, score=0.571 total time=   9.3s\n",
            "[CV 3/5] END C=100, gamma=0.0001, kernel=linear;, score=0.615 total time=   7.5s\n",
            "[CV 4/5] END C=100, gamma=0.0001, kernel=linear;, score=0.628 total time=   9.2s\n",
            "[CV 5/5] END C=100, gamma=0.0001, kernel=linear;, score=0.658 total time=   7.9s\n"
          ]
        },
        {
          "output_type": "execute_result",
          "data": {
            "text/plain": [
              "GridSearchCV(estimator=SVC(),\n",
              "             param_grid={'C': [0.1, 1, 10, 100],\n",
              "                         'gamma': [0.1, 0.01, 0.001, 0.0001],\n",
              "                         'kernel': ['rbf', 'linear']},\n",
              "             verbose=5)"
            ]
          },
          "metadata": {},
          "execution_count": 17
        }
      ]
    },
    {
      "cell_type": "code",
      "metadata": {
        "colab": {
          "base_uri": "https://localhost:8080/"
        },
        "id": "WVWEvHZOevXo",
        "outputId": "1a5df988-08cf-4556-f2e3-174216a7fdef"
      },
      "source": [
        "clf.cv_results_"
      ],
      "id": "WVWEvHZOevXo",
      "execution_count": null,
      "outputs": [
        {
          "output_type": "execute_result",
          "data": {
            "text/plain": [
              "{'mean_fit_time': array([6.40493445, 5.6417491 , 6.34643669, 5.68657789, 6.30245152,\n",
              "        5.67310791, 6.31046958, 5.73208518, 5.97121248, 4.93859138,\n",
              "        6.54622622, 4.93134656, 6.45169287, 4.95906544, 6.38460007,\n",
              "        4.97153788, 6.63813639, 7.21869564, 5.96417341, 7.19644732,\n",
              "        6.58192391, 7.22077875, 6.53332729, 7.20373111, 7.76366792,\n",
              "        7.34228544, 7.04257636, 7.31776237, 5.96022887, 7.31590872,\n",
              "        6.64047542, 7.2982048 ]),\n",
              " 'mean_score_time': array([1.3870944 , 1.26652832, 1.39330344, 1.26482987, 1.38143954,\n",
              "        1.27042389, 1.37322521, 1.28495569, 1.2689034 , 1.03741856,\n",
              "        1.41938171, 1.0427968 , 1.40571504, 1.04972863, 1.39564595,\n",
              "        1.05020504, 1.16680465, 1.05336127, 1.27257361, 1.05243344,\n",
              "        1.44319634, 1.05370626, 1.42938995, 1.05231147, 1.1901134 ,\n",
              "        1.04553905, 1.12876396, 1.03786802, 1.28021193, 1.0411612 ,\n",
              "        1.44850602, 1.04008055]),\n",
              " 'mean_test_score': array([0.5703402 , 0.66124359, 0.5703402 , 0.66124359, 0.5703402 ,\n",
              "        0.66124359, 0.5703402 , 0.66124359, 0.67884699, 0.66623227,\n",
              "        0.5703402 , 0.66623227, 0.5703402 , 0.66623227, 0.5703402 ,\n",
              "        0.66623227, 0.65598769, 0.62945281, 0.68213111, 0.62945281,\n",
              "        0.5703402 , 0.62945281, 0.5703402 , 0.62945281, 0.63615211,\n",
              "        0.62748336, 0.65165258, 0.62748336, 0.68278771, 0.62748336,\n",
              "        0.5703402 , 0.62748336]),\n",
              " 'param_C': masked_array(data=[0.1, 0.1, 0.1, 0.1, 0.1, 0.1, 0.1, 0.1, 1, 1, 1, 1, 1,\n",
              "                    1, 1, 1, 10, 10, 10, 10, 10, 10, 10, 10, 100, 100, 100,\n",
              "                    100, 100, 100, 100, 100],\n",
              "              mask=[False, False, False, False, False, False, False, False,\n",
              "                    False, False, False, False, False, False, False, False,\n",
              "                    False, False, False, False, False, False, False, False,\n",
              "                    False, False, False, False, False, False, False, False],\n",
              "        fill_value='?',\n",
              "             dtype=object),\n",
              " 'param_gamma': masked_array(data=[0.1, 0.1, 0.01, 0.01, 0.001, 0.001, 0.0001, 0.0001,\n",
              "                    0.1, 0.1, 0.01, 0.01, 0.001, 0.001, 0.0001, 0.0001,\n",
              "                    0.1, 0.1, 0.01, 0.01, 0.001, 0.001, 0.0001, 0.0001,\n",
              "                    0.1, 0.1, 0.01, 0.01, 0.001, 0.001, 0.0001, 0.0001],\n",
              "              mask=[False, False, False, False, False, False, False, False,\n",
              "                    False, False, False, False, False, False, False, False,\n",
              "                    False, False, False, False, False, False, False, False,\n",
              "                    False, False, False, False, False, False, False, False],\n",
              "        fill_value='?',\n",
              "             dtype=object),\n",
              " 'param_kernel': masked_array(data=['rbf', 'linear', 'rbf', 'linear', 'rbf', 'linear',\n",
              "                    'rbf', 'linear', 'rbf', 'linear', 'rbf', 'linear',\n",
              "                    'rbf', 'linear', 'rbf', 'linear', 'rbf', 'linear',\n",
              "                    'rbf', 'linear', 'rbf', 'linear', 'rbf', 'linear',\n",
              "                    'rbf', 'linear', 'rbf', 'linear', 'rbf', 'linear',\n",
              "                    'rbf', 'linear'],\n",
              "              mask=[False, False, False, False, False, False, False, False,\n",
              "                    False, False, False, False, False, False, False, False,\n",
              "                    False, False, False, False, False, False, False, False,\n",
              "                    False, False, False, False, False, False, False, False],\n",
              "        fill_value='?',\n",
              "             dtype=object),\n",
              " 'params': [{'C': 0.1, 'gamma': 0.1, 'kernel': 'rbf'},\n",
              "  {'C': 0.1, 'gamma': 0.1, 'kernel': 'linear'},\n",
              "  {'C': 0.1, 'gamma': 0.01, 'kernel': 'rbf'},\n",
              "  {'C': 0.1, 'gamma': 0.01, 'kernel': 'linear'},\n",
              "  {'C': 0.1, 'gamma': 0.001, 'kernel': 'rbf'},\n",
              "  {'C': 0.1, 'gamma': 0.001, 'kernel': 'linear'},\n",
              "  {'C': 0.1, 'gamma': 0.0001, 'kernel': 'rbf'},\n",
              "  {'C': 0.1, 'gamma': 0.0001, 'kernel': 'linear'},\n",
              "  {'C': 1, 'gamma': 0.1, 'kernel': 'rbf'},\n",
              "  {'C': 1, 'gamma': 0.1, 'kernel': 'linear'},\n",
              "  {'C': 1, 'gamma': 0.01, 'kernel': 'rbf'},\n",
              "  {'C': 1, 'gamma': 0.01, 'kernel': 'linear'},\n",
              "  {'C': 1, 'gamma': 0.001, 'kernel': 'rbf'},\n",
              "  {'C': 1, 'gamma': 0.001, 'kernel': 'linear'},\n",
              "  {'C': 1, 'gamma': 0.0001, 'kernel': 'rbf'},\n",
              "  {'C': 1, 'gamma': 0.0001, 'kernel': 'linear'},\n",
              "  {'C': 10, 'gamma': 0.1, 'kernel': 'rbf'},\n",
              "  {'C': 10, 'gamma': 0.1, 'kernel': 'linear'},\n",
              "  {'C': 10, 'gamma': 0.01, 'kernel': 'rbf'},\n",
              "  {'C': 10, 'gamma': 0.01, 'kernel': 'linear'},\n",
              "  {'C': 10, 'gamma': 0.001, 'kernel': 'rbf'},\n",
              "  {'C': 10, 'gamma': 0.001, 'kernel': 'linear'},\n",
              "  {'C': 10, 'gamma': 0.0001, 'kernel': 'rbf'},\n",
              "  {'C': 10, 'gamma': 0.0001, 'kernel': 'linear'},\n",
              "  {'C': 100, 'gamma': 0.1, 'kernel': 'rbf'},\n",
              "  {'C': 100, 'gamma': 0.1, 'kernel': 'linear'},\n",
              "  {'C': 100, 'gamma': 0.01, 'kernel': 'rbf'},\n",
              "  {'C': 100, 'gamma': 0.01, 'kernel': 'linear'},\n",
              "  {'C': 100, 'gamma': 0.001, 'kernel': 'rbf'},\n",
              "  {'C': 100, 'gamma': 0.001, 'kernel': 'linear'},\n",
              "  {'C': 100, 'gamma': 0.0001, 'kernel': 'rbf'},\n",
              "  {'C': 100, 'gamma': 0.0001, 'kernel': 'linear'}],\n",
              " 'rank_test_score': array([23,  8, 23,  8, 23,  8, 23,  8,  3,  4, 23,  4, 23,  4, 23,  4, 12,\n",
              "        15,  2, 15, 23, 15, 23, 15, 14, 19, 13, 19,  1, 19, 23, 19],\n",
              "       dtype=int32),\n",
              " 'split0_test_score': array([0.56992777, 0.65659882, 0.56992777, 0.65659882, 0.56992777,\n",
              "        0.65659882, 0.56992777, 0.65659882, 0.68877216, 0.71240972,\n",
              "        0.56992777, 0.71240972, 0.56992777, 0.71240972, 0.56992777,\n",
              "        0.71240972, 0.70059094, 0.67367039, 0.69796454, 0.67367039,\n",
              "        0.56992777, 0.67367039, 0.56992777, 0.67367039, 0.68154957,\n",
              "        0.6657912 , 0.70124754, 0.6657912 , 0.69862114, 0.6657912 ,\n",
              "        0.56992777, 0.6657912 ]),\n",
              " 'split1_test_score': array([0.57058437, 0.65200263, 0.57058437, 0.65200263, 0.57058437,\n",
              "        0.65200263, 0.57058437, 0.65200263, 0.64412344, 0.60275772,\n",
              "        0.57058437, 0.60275772, 0.57058437, 0.60275772, 0.57058437,\n",
              "        0.60275772, 0.58502955, 0.57715036, 0.64478004, 0.57715036,\n",
              "        0.57058437, 0.57715036, 0.57058437, 0.57715036, 0.57846356,\n",
              "        0.57124097, 0.58043336, 0.57124097, 0.64543664, 0.57124097,\n",
              "        0.57058437, 0.57124097]),\n",
              " 'split2_test_score': array([0.57058437, 0.62770847, 0.57058437, 0.62770847, 0.57058437,\n",
              "        0.62770847, 0.57058437, 0.62770847, 0.64149705, 0.65725542,\n",
              "        0.57058437, 0.65725542, 0.57058437, 0.65725542, 0.57058437,\n",
              "        0.65725542, 0.64806303, 0.6132633 , 0.63952725, 0.6132633 ,\n",
              "        0.57058437, 0.6132633 , 0.57058437, 0.6132633 , 0.62245568,\n",
              "        0.61457649, 0.64215364, 0.61457649, 0.64149705, 0.61457649,\n",
              "        0.57058437, 0.61457649]),\n",
              " 'split3_test_score': array([0.57030223, 0.64060447, 0.57030223, 0.64060447, 0.57030223,\n",
              "        0.64060447, 0.57030223, 0.64060447, 0.66754271, 0.65308804,\n",
              "        0.57030223, 0.65308804, 0.57030223, 0.65308804, 0.57030223,\n",
              "        0.65308804, 0.65637319, 0.62680683, 0.66819974, 0.62680683,\n",
              "        0.57030223, 0.62680683, 0.57030223, 0.62680683, 0.63534823,\n",
              "        0.62812089, 0.65045992, 0.62812089, 0.66885677, 0.62812089,\n",
              "        0.57030223, 0.62812089]),\n",
              " 'split4_test_score': array([0.57030223, 0.72930355, 0.57030223, 0.72930355, 0.57030223,\n",
              "        0.72930355, 0.57030223, 0.72930355, 0.75229961, 0.70565046,\n",
              "        0.57030223, 0.70565046, 0.57030223, 0.70565046, 0.57030223,\n",
              "        0.70565046, 0.68988173, 0.65637319, 0.76018397, 0.65637319,\n",
              "        0.57030223, 0.65637319, 0.57030223, 0.65637319, 0.6629435 ,\n",
              "        0.65768725, 0.68396846, 0.65768725, 0.75952694, 0.65768725,\n",
              "        0.57030223, 0.65768725]),\n",
              " 'std_fit_time': array([0.07454012, 0.06413073, 0.02383947, 0.09389729, 0.02236364,\n",
              "        0.06282569, 0.02294252, 0.07111753, 0.11173653, 0.12838584,\n",
              "        0.01500359, 0.11535936, 0.03401651, 0.12064392, 0.02825431,\n",
              "        0.11734939, 0.07909801, 0.70938899, 0.11554161, 0.71376849,\n",
              "        0.03572879, 0.70541171, 0.01610449, 0.70789026, 0.6783901 ,\n",
              "        0.75849857, 0.65377581, 0.75391854, 0.08825504, 0.7611873 ,\n",
              "        0.04589539, 0.75577252]),\n",
              " 'std_score_time': array([0.01227765, 0.01674483, 0.01125499, 0.01365975, 0.01645001,\n",
              "        0.01362123, 0.01301286, 0.01225963, 0.01110575, 0.0189399 ,\n",
              "        0.01440494, 0.01832492, 0.01417489, 0.01784343, 0.00908226,\n",
              "        0.02201891, 0.01880114, 0.01555241, 0.02702031, 0.01743761,\n",
              "        0.00729197, 0.01855771, 0.01584809, 0.01515775, 0.01323019,\n",
              "        0.01634355, 0.01304196, 0.01947719, 0.01885078, 0.02161967,\n",
              "        0.00980732, 0.01864285]),\n",
              " 'std_test_score': array([0.00024175, 0.03546746, 0.00024175, 0.03546746, 0.00024175,\n",
              "        0.03546746, 0.00024175, 0.03546746, 0.04055201, 0.03992123,\n",
              "        0.00024175, 0.03992123, 0.00024175, 0.03992123, 0.00024175,\n",
              "        0.03992123, 0.04058636, 0.03371809, 0.04415251, 0.03371809,\n",
              "        0.00024175, 0.03371809, 0.00024175, 0.03371809, 0.03548215,\n",
              "        0.03379339, 0.04163606, 0.03379339, 0.04343662, 0.03379339,\n",
              "        0.00024175, 0.03379339])}"
            ]
          },
          "metadata": {},
          "execution_count": 18
        }
      ]
    },
    {
      "cell_type": "code",
      "metadata": {
        "colab": {
          "base_uri": "https://localhost:8080/"
        },
        "id": "Gv9FeWFTh9Dp",
        "outputId": "8bb0f08d-e8ed-4057-ccbd-c06443a35e1b"
      },
      "source": [
        "clf.best_estimator_"
      ],
      "id": "Gv9FeWFTh9Dp",
      "execution_count": null,
      "outputs": [
        {
          "output_type": "execute_result",
          "data": {
            "text/plain": [
              "SVC(C=100, gamma=0.001)"
            ]
          },
          "metadata": {},
          "execution_count": 19
        }
      ]
    },
    {
      "cell_type": "code",
      "metadata": {
        "colab": {
          "base_uri": "https://localhost:8080/"
        },
        "id": "9tIHGLn5h-Cq",
        "outputId": "d7f81def-15ad-47e8-c350-865edc7e4dd4"
      },
      "source": [
        "clf.best_score_"
      ],
      "id": "9tIHGLn5h-Cq",
      "execution_count": null,
      "outputs": [
        {
          "output_type": "execute_result",
          "data": {
            "text/plain": [
              "0.6827877063303547"
            ]
          },
          "metadata": {},
          "execution_count": 20
        }
      ]
    },
    {
      "cell_type": "code",
      "metadata": {
        "colab": {
          "base_uri": "https://localhost:8080/"
        },
        "id": "TkhAXRuhiDIp",
        "outputId": "3cd14390-5009-41de-8950-e1f0ce0377df"
      },
      "source": [
        "clf.best_params_"
      ],
      "id": "TkhAXRuhiDIp",
      "execution_count": null,
      "outputs": [
        {
          "output_type": "execute_result",
          "data": {
            "text/plain": [
              "{'C': 100, 'gamma': 0.001, 'kernel': 'rbf'}"
            ]
          },
          "metadata": {},
          "execution_count": 21
        }
      ]
    },
    {
      "cell_type": "code",
      "metadata": {
        "execution": {
          "iopub.execute_input": "2021-10-09T19:59:12.003413Z",
          "iopub.status.busy": "2021-10-09T19:59:12.002864Z",
          "iopub.status.idle": "2021-10-09T19:59:12.097798Z",
          "shell.execute_reply": "2021-10-09T19:59:12.096954Z",
          "shell.execute_reply.started": "2021-10-09T19:57:31.323032Z"
        },
        "papermill": {
          "duration": 0.168417,
          "end_time": "2021-10-09T19:59:12.097930",
          "exception": false,
          "start_time": "2021-10-09T19:59:11.929513",
          "status": "completed"
        },
        "tags": [],
        "id": "93c16af5"
      },
      "source": [
        "from sklearn.linear_model import LogisticRegression\n",
        "from sklearn.naive_bayes import ComplementNB\n",
        "from sklearn.svm import SVC\n",
        "from sklearn.tree import DecisionTreeClassifier\n",
        "from sklearn.ensemble import VotingClassifier\n",
        "from sklearn.ensemble import RandomForestClassifier\n",
        "\n",
        "model1 = LogisticRegression(C = 1, l1_ratio = 0, max_iter = 10000, penalty = 'elasticnet', solver = 'saga')\n",
        "model2 = ComplementNB(alpha = 10)\n",
        "model3 = SVC(C = 100, gamma = 0.001, kernel = 'rbf')\n",
        "# model4 = RandomForestClassifier(n_estimators=500)"
      ],
      "id": "93c16af5",
      "execution_count": null,
      "outputs": []
    },
    {
      "cell_type": "code",
      "metadata": {
        "execution": {
          "iopub.execute_input": "2021-10-09T19:59:12.241210Z",
          "iopub.status.busy": "2021-10-09T19:59:12.240428Z",
          "iopub.status.idle": "2021-10-09T19:59:21.656881Z",
          "shell.execute_reply": "2021-10-09T19:59:21.657572Z",
          "shell.execute_reply.started": "2021-10-09T19:57:37.026010Z"
        },
        "papermill": {
          "duration": 9.49232,
          "end_time": "2021-10-09T19:59:21.657727",
          "exception": false,
          "start_time": "2021-10-09T19:59:12.165407",
          "status": "completed"
        },
        "tags": [],
        "id": "2e6e88c8",
        "colab": {
          "base_uri": "https://localhost:8080/"
        },
        "outputId": "6db0f607-2b25-471e-dff8-ff08e8e160a8"
      },
      "source": [
        "final_model = VotingClassifier(estimators=[('LR', model1), ('NB', model2), ('SVC',model3)],  voting='hard')\n",
        "final_model.fit(x_train, Y)"
      ],
      "id": "2e6e88c8",
      "execution_count": null,
      "outputs": [
        {
          "output_type": "execute_result",
          "data": {
            "text/plain": [
              "VotingClassifier(estimators=[('LR',\n",
              "                              LogisticRegression(C=1, l1_ratio=0,\n",
              "                                                 max_iter=10000,\n",
              "                                                 penalty='elasticnet',\n",
              "                                                 solver='saga')),\n",
              "                             ('NB', ComplementNB(alpha=10)),\n",
              "                             ('SVC', SVC(C=100, gamma=0.001))])"
            ]
          },
          "metadata": {},
          "execution_count": 26
        }
      ]
    },
    {
      "cell_type": "code",
      "metadata": {
        "execution": {
          "iopub.execute_input": "2021-10-09T19:59:21.934199Z",
          "iopub.status.busy": "2021-10-09T19:59:21.933305Z",
          "iopub.status.idle": "2021-10-09T19:59:24.821894Z",
          "shell.execute_reply": "2021-10-09T19:59:24.822322Z",
          "shell.execute_reply.started": "2021-10-09T19:57:48.815258Z"
        },
        "papermill": {
          "duration": 2.961583,
          "end_time": "2021-10-09T19:59:24.822493",
          "exception": false,
          "start_time": "2021-10-09T19:59:21.860910",
          "status": "completed"
        },
        "tags": [],
        "id": "f062ce69",
        "colab": {
          "base_uri": "https://localhost:8080/",
          "height": 206
        },
        "outputId": "9f283b08-b367-4b08-a85c-a0edc9254cf7"
      },
      "source": [
        "pred = final_model.predict(x_test)\n",
        "\n",
        "## filling submission.csv\n",
        "submission = pd.read_csv(\"https://raw.githubusercontent.com/pj423/Disaster-Tweets/main/sample_submission.csv\")\n",
        "\n",
        "submission[\"target\"] = pred\n",
        "# submission.to_csv(\"voting_ensemble.csv\", index=False)\n",
        "\n",
        "submission.head()"
      ],
      "id": "f062ce69",
      "execution_count": null,
      "outputs": [
        {
          "output_type": "execute_result",
          "data": {
            "text/html": [
              "<div>\n",
              "<style scoped>\n",
              "    .dataframe tbody tr th:only-of-type {\n",
              "        vertical-align: middle;\n",
              "    }\n",
              "\n",
              "    .dataframe tbody tr th {\n",
              "        vertical-align: top;\n",
              "    }\n",
              "\n",
              "    .dataframe thead th {\n",
              "        text-align: right;\n",
              "    }\n",
              "</style>\n",
              "<table border=\"1\" class=\"dataframe\">\n",
              "  <thead>\n",
              "    <tr style=\"text-align: right;\">\n",
              "      <th></th>\n",
              "      <th>id</th>\n",
              "      <th>target</th>\n",
              "    </tr>\n",
              "  </thead>\n",
              "  <tbody>\n",
              "    <tr>\n",
              "      <th>0</th>\n",
              "      <td>0</td>\n",
              "      <td>0</td>\n",
              "    </tr>\n",
              "    <tr>\n",
              "      <th>1</th>\n",
              "      <td>2</td>\n",
              "      <td>0</td>\n",
              "    </tr>\n",
              "    <tr>\n",
              "      <th>2</th>\n",
              "      <td>3</td>\n",
              "      <td>1</td>\n",
              "    </tr>\n",
              "    <tr>\n",
              "      <th>3</th>\n",
              "      <td>9</td>\n",
              "      <td>0</td>\n",
              "    </tr>\n",
              "    <tr>\n",
              "      <th>4</th>\n",
              "      <td>11</td>\n",
              "      <td>1</td>\n",
              "    </tr>\n",
              "  </tbody>\n",
              "</table>\n",
              "</div>"
            ],
            "text/plain": [
              "   id  target\n",
              "0   0       0\n",
              "1   2       0\n",
              "2   3       1\n",
              "3   9       0\n",
              "4  11       1"
            ]
          },
          "metadata": {},
          "execution_count": 27
        }
      ]
    },
    {
      "cell_type": "code",
      "metadata": {
        "colab": {
          "base_uri": "https://localhost:8080/"
        },
        "id": "Qv9XX4KpSJYQ",
        "outputId": "961890e6-3a24-483d-d676-5c2dfaaa8dbe"
      },
      "source": [
        "import sklearn.metrics\n",
        "\n",
        "  sklearn.metrics.f1_score(correct_predictions[\"target\"], submission[\"target\"], average='macro')"
      ],
      "id": "Qv9XX4KpSJYQ",
      "execution_count": null,
      "outputs": [
        {
          "output_type": "execute_result",
          "data": {
            "text/plain": [
              "0.7728059085207355"
            ]
          },
          "metadata": {},
          "execution_count": 28
        }
      ]
    }
  ]
}